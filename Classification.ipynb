{
 "cells": [
  {
   "cell_type": "markdown",
   "id": "bb018238",
   "metadata": {},
   "source": [
    "# Stellar Classification SDSS-17\n",
    "## author: Daniel Jarzymowski\n"
   ]
  },
  {
   "cell_type": "markdown",
   "id": "98bd364c",
   "metadata": {},
   "source": [
    "# 1 Introduction"
   ]
  },
  {
   "cell_type": "markdown",
   "id": "5ac93bf5",
   "metadata": {},
   "source": [
    "## 1.1 Aim of project"
   ]
  },
  {
   "cell_type": "markdown",
   "id": "38691dc4",
   "metadata": {},
   "source": [
    "The aim of this project is to build a classificator, which would indicate if the measured object is a star, a galaxy or a Quasar. In addition, I intend to show that balancing data and standardization can make a huge difference."
   ]
  },
  {
   "cell_type": "markdown",
   "id": "a85d2068",
   "metadata": {},
   "source": [
    "## 1.2 Imports"
   ]
  },
  {
   "cell_type": "code",
   "execution_count": 1,
   "id": "f2bdab48",
   "metadata": {},
   "outputs": [],
   "source": [
    "import pandas as pd\n",
    "import seaborn as sns\n",
    "import numpy as np\n",
    "import matplotlib.pyplot as plt\n",
    "from sklearn.model_selection import train_test_split\n",
    "from sklearn.neighbors import LocalOutlierFactor\n",
    "from sklearn.preprocessing import StandardScaler\n",
    "from sklearn.feature_selection import SelectKBest, f_classif\n",
    "from sklearn.model_selection import GridSearchCV, cross_val_score\n",
    "from sklearn.tree import DecisionTreeClassifier\n",
    "from sklearn.naive_bayes import GaussianNB\n",
    "from sklearn.neighbors import KNeighborsClassifier\n",
    "from sklearn.neural_network import MLPClassifier\n",
    "from sklearn.metrics import classification_report\n",
    "from keras.models import Sequential\n",
    "from keras.layers import Dense, LeakyReLU, Dropout\n",
    "from keras.callbacks import History\n",
    "from keras.utils import to_categorical\n",
    "from collections import Counter\n",
    "from imblearn.over_sampling import SMOTE\n",
    "from keras.optimizers import Adam, SGD"
   ]
  },
  {
   "cell_type": "markdown",
   "id": "f2f84ca0",
   "metadata": {},
   "source": [
    "## 1.3 About data\n",
    "The data is taken from kaggle(https://www.kaggle.com/datasets/fedesoriano/stellar-classification-dataset-sdss17 ). It consists of 100,000 observations of space taken by the SDSS (Sloan Digital Sky Survey). Every observation is described by 17 feature columns and 1 class column which identifies it to be either a star, galaxy or quasar.\n",
    "\n",
    "1. obj_ID = Object Identifier, the unique value that identifies the object in the image catalog used by the CAS\n",
    "2. alpha = Right Ascension angle (at J2000 epoch)\n",
    "3. delta = Declination angle (at J2000 epoch)\n",
    "4. u = Ultraviolet filter in the photometric system\n",
    "5. g = Green filter in the photometric system\n",
    "6. r = Red filter in the photometric system\n",
    "7. i = Near Infrared filter in the photometric system\n",
    "8. z = Infrared filter in the photometric system\n",
    "9. run_ID = Run Number used to identify the specific scan\n",
    "10. rereun_ID = Rerun Number to specify how the image was processed\n",
    "11. cam_col = Camera column to identify the scanline within the run\n",
    "12. field_ID = Field number to identify each field\n",
    "13. spec_obj_ID = Unique ID used for optical spectroscopic objects (this means that 2 different observations with the same spec_obj_ID must share the output class)\n",
    "14. class = object class (galaxy, star or quasar object)\n",
    "15. redshift = redshift value based on the increase in wavelength\n",
    "16. plate = plate ID, identifies each plate in SDSS\n",
    "17. MJD = Modified Julian Date, used to indicate when a given piece of SDSS data was taken\n",
    "18. fiber_ID = fiber ID that identifies the fiber that pointed the light at the focal plane in each observation"
   ]
  },
  {
   "cell_type": "markdown",
   "id": "581f4bfe",
   "metadata": {},
   "source": [
    "# 2 First look into data"
   ]
  },
  {
   "cell_type": "markdown",
   "id": "c5d46d72",
   "metadata": {},
   "source": [
    "Importing dataset file "
   ]
  },
  {
   "cell_type": "code",
   "execution_count": 2,
   "id": "012f4109",
   "metadata": {},
   "outputs": [],
   "source": [
    "data = pd.read_csv('star_classification.csv')"
   ]
  },
  {
   "cell_type": "code",
   "execution_count": 3,
   "id": "798debdb",
   "metadata": {},
   "outputs": [
    {
     "data": {
      "text/html": [
       "<div>\n",
       "<style scoped>\n",
       "    .dataframe tbody tr th:only-of-type {\n",
       "        vertical-align: middle;\n",
       "    }\n",
       "\n",
       "    .dataframe tbody tr th {\n",
       "        vertical-align: top;\n",
       "    }\n",
       "\n",
       "    .dataframe thead th {\n",
       "        text-align: right;\n",
       "    }\n",
       "</style>\n",
       "<table border=\"1\" class=\"dataframe\">\n",
       "  <thead>\n",
       "    <tr style=\"text-align: right;\">\n",
       "      <th></th>\n",
       "      <th>obj_ID</th>\n",
       "      <th>alpha</th>\n",
       "      <th>delta</th>\n",
       "      <th>u</th>\n",
       "      <th>g</th>\n",
       "      <th>r</th>\n",
       "      <th>i</th>\n",
       "      <th>z</th>\n",
       "      <th>run_ID</th>\n",
       "      <th>rerun_ID</th>\n",
       "      <th>cam_col</th>\n",
       "      <th>field_ID</th>\n",
       "      <th>spec_obj_ID</th>\n",
       "      <th>class</th>\n",
       "      <th>redshift</th>\n",
       "      <th>plate</th>\n",
       "      <th>MJD</th>\n",
       "      <th>fiber_ID</th>\n",
       "    </tr>\n",
       "  </thead>\n",
       "  <tbody>\n",
       "    <tr>\n",
       "      <th>0</th>\n",
       "      <td>1.237661e+18</td>\n",
       "      <td>135.689107</td>\n",
       "      <td>32.494632</td>\n",
       "      <td>23.87882</td>\n",
       "      <td>22.27530</td>\n",
       "      <td>20.39501</td>\n",
       "      <td>19.16573</td>\n",
       "      <td>18.79371</td>\n",
       "      <td>3606</td>\n",
       "      <td>301</td>\n",
       "      <td>2</td>\n",
       "      <td>79</td>\n",
       "      <td>6.543777e+18</td>\n",
       "      <td>GALAXY</td>\n",
       "      <td>0.634794</td>\n",
       "      <td>5812</td>\n",
       "      <td>56354</td>\n",
       "      <td>171</td>\n",
       "    </tr>\n",
       "    <tr>\n",
       "      <th>1</th>\n",
       "      <td>1.237665e+18</td>\n",
       "      <td>144.826101</td>\n",
       "      <td>31.274185</td>\n",
       "      <td>24.77759</td>\n",
       "      <td>22.83188</td>\n",
       "      <td>22.58444</td>\n",
       "      <td>21.16812</td>\n",
       "      <td>21.61427</td>\n",
       "      <td>4518</td>\n",
       "      <td>301</td>\n",
       "      <td>5</td>\n",
       "      <td>119</td>\n",
       "      <td>1.176014e+19</td>\n",
       "      <td>GALAXY</td>\n",
       "      <td>0.779136</td>\n",
       "      <td>10445</td>\n",
       "      <td>58158</td>\n",
       "      <td>427</td>\n",
       "    </tr>\n",
       "    <tr>\n",
       "      <th>2</th>\n",
       "      <td>1.237661e+18</td>\n",
       "      <td>142.188790</td>\n",
       "      <td>35.582444</td>\n",
       "      <td>25.26307</td>\n",
       "      <td>22.66389</td>\n",
       "      <td>20.60976</td>\n",
       "      <td>19.34857</td>\n",
       "      <td>18.94827</td>\n",
       "      <td>3606</td>\n",
       "      <td>301</td>\n",
       "      <td>2</td>\n",
       "      <td>120</td>\n",
       "      <td>5.152200e+18</td>\n",
       "      <td>GALAXY</td>\n",
       "      <td>0.644195</td>\n",
       "      <td>4576</td>\n",
       "      <td>55592</td>\n",
       "      <td>299</td>\n",
       "    </tr>\n",
       "    <tr>\n",
       "      <th>3</th>\n",
       "      <td>1.237663e+18</td>\n",
       "      <td>338.741038</td>\n",
       "      <td>-0.402828</td>\n",
       "      <td>22.13682</td>\n",
       "      <td>23.77656</td>\n",
       "      <td>21.61162</td>\n",
       "      <td>20.50454</td>\n",
       "      <td>19.25010</td>\n",
       "      <td>4192</td>\n",
       "      <td>301</td>\n",
       "      <td>3</td>\n",
       "      <td>214</td>\n",
       "      <td>1.030107e+19</td>\n",
       "      <td>GALAXY</td>\n",
       "      <td>0.932346</td>\n",
       "      <td>9149</td>\n",
       "      <td>58039</td>\n",
       "      <td>775</td>\n",
       "    </tr>\n",
       "    <tr>\n",
       "      <th>4</th>\n",
       "      <td>1.237680e+18</td>\n",
       "      <td>345.282593</td>\n",
       "      <td>21.183866</td>\n",
       "      <td>19.43718</td>\n",
       "      <td>17.58028</td>\n",
       "      <td>16.49747</td>\n",
       "      <td>15.97711</td>\n",
       "      <td>15.54461</td>\n",
       "      <td>8102</td>\n",
       "      <td>301</td>\n",
       "      <td>3</td>\n",
       "      <td>137</td>\n",
       "      <td>6.891865e+18</td>\n",
       "      <td>GALAXY</td>\n",
       "      <td>0.116123</td>\n",
       "      <td>6121</td>\n",
       "      <td>56187</td>\n",
       "      <td>842</td>\n",
       "    </tr>\n",
       "    <tr>\n",
       "      <th>5</th>\n",
       "      <td>1.237680e+18</td>\n",
       "      <td>340.995121</td>\n",
       "      <td>20.589476</td>\n",
       "      <td>23.48827</td>\n",
       "      <td>23.33776</td>\n",
       "      <td>21.32195</td>\n",
       "      <td>20.25615</td>\n",
       "      <td>19.54544</td>\n",
       "      <td>8102</td>\n",
       "      <td>301</td>\n",
       "      <td>3</td>\n",
       "      <td>110</td>\n",
       "      <td>5.658977e+18</td>\n",
       "      <td>QSO</td>\n",
       "      <td>1.424659</td>\n",
       "      <td>5026</td>\n",
       "      <td>55855</td>\n",
       "      <td>741</td>\n",
       "    </tr>\n",
       "    <tr>\n",
       "      <th>6</th>\n",
       "      <td>1.237679e+18</td>\n",
       "      <td>23.234926</td>\n",
       "      <td>11.418188</td>\n",
       "      <td>21.46973</td>\n",
       "      <td>21.17624</td>\n",
       "      <td>20.92829</td>\n",
       "      <td>20.60826</td>\n",
       "      <td>20.42573</td>\n",
       "      <td>7773</td>\n",
       "      <td>301</td>\n",
       "      <td>2</td>\n",
       "      <td>462</td>\n",
       "      <td>1.246262e+19</td>\n",
       "      <td>QSO</td>\n",
       "      <td>0.586455</td>\n",
       "      <td>11069</td>\n",
       "      <td>58456</td>\n",
       "      <td>113</td>\n",
       "    </tr>\n",
       "    <tr>\n",
       "      <th>7</th>\n",
       "      <td>1.237679e+18</td>\n",
       "      <td>5.433176</td>\n",
       "      <td>12.065186</td>\n",
       "      <td>22.24979</td>\n",
       "      <td>22.02172</td>\n",
       "      <td>20.34126</td>\n",
       "      <td>19.48794</td>\n",
       "      <td>18.84999</td>\n",
       "      <td>7773</td>\n",
       "      <td>301</td>\n",
       "      <td>2</td>\n",
       "      <td>346</td>\n",
       "      <td>6.961443e+18</td>\n",
       "      <td>GALAXY</td>\n",
       "      <td>0.477009</td>\n",
       "      <td>6183</td>\n",
       "      <td>56210</td>\n",
       "      <td>15</td>\n",
       "    </tr>\n",
       "    <tr>\n",
       "      <th>8</th>\n",
       "      <td>1.237661e+18</td>\n",
       "      <td>200.290475</td>\n",
       "      <td>47.199402</td>\n",
       "      <td>24.40286</td>\n",
       "      <td>22.35669</td>\n",
       "      <td>20.61032</td>\n",
       "      <td>19.46490</td>\n",
       "      <td>18.95852</td>\n",
       "      <td>3716</td>\n",
       "      <td>301</td>\n",
       "      <td>5</td>\n",
       "      <td>108</td>\n",
       "      <td>7.459285e+18</td>\n",
       "      <td>GALAXY</td>\n",
       "      <td>0.660012</td>\n",
       "      <td>6625</td>\n",
       "      <td>56386</td>\n",
       "      <td>719</td>\n",
       "    </tr>\n",
       "    <tr>\n",
       "      <th>9</th>\n",
       "      <td>1.237671e+18</td>\n",
       "      <td>39.149691</td>\n",
       "      <td>28.102842</td>\n",
       "      <td>21.74669</td>\n",
       "      <td>20.03493</td>\n",
       "      <td>19.17553</td>\n",
       "      <td>18.81823</td>\n",
       "      <td>18.65422</td>\n",
       "      <td>5934</td>\n",
       "      <td>301</td>\n",
       "      <td>4</td>\n",
       "      <td>122</td>\n",
       "      <td>2.751763e+18</td>\n",
       "      <td>STAR</td>\n",
       "      <td>-0.000008</td>\n",
       "      <td>2444</td>\n",
       "      <td>54082</td>\n",
       "      <td>232</td>\n",
       "    </tr>\n",
       "  </tbody>\n",
       "</table>\n",
       "</div>"
      ],
      "text/plain": [
       "         obj_ID       alpha      delta         u         g         r  \\\n",
       "0  1.237661e+18  135.689107  32.494632  23.87882  22.27530  20.39501   \n",
       "1  1.237665e+18  144.826101  31.274185  24.77759  22.83188  22.58444   \n",
       "2  1.237661e+18  142.188790  35.582444  25.26307  22.66389  20.60976   \n",
       "3  1.237663e+18  338.741038  -0.402828  22.13682  23.77656  21.61162   \n",
       "4  1.237680e+18  345.282593  21.183866  19.43718  17.58028  16.49747   \n",
       "5  1.237680e+18  340.995121  20.589476  23.48827  23.33776  21.32195   \n",
       "6  1.237679e+18   23.234926  11.418188  21.46973  21.17624  20.92829   \n",
       "7  1.237679e+18    5.433176  12.065186  22.24979  22.02172  20.34126   \n",
       "8  1.237661e+18  200.290475  47.199402  24.40286  22.35669  20.61032   \n",
       "9  1.237671e+18   39.149691  28.102842  21.74669  20.03493  19.17553   \n",
       "\n",
       "          i         z  run_ID  rerun_ID  cam_col  field_ID   spec_obj_ID  \\\n",
       "0  19.16573  18.79371    3606       301        2        79  6.543777e+18   \n",
       "1  21.16812  21.61427    4518       301        5       119  1.176014e+19   \n",
       "2  19.34857  18.94827    3606       301        2       120  5.152200e+18   \n",
       "3  20.50454  19.25010    4192       301        3       214  1.030107e+19   \n",
       "4  15.97711  15.54461    8102       301        3       137  6.891865e+18   \n",
       "5  20.25615  19.54544    8102       301        3       110  5.658977e+18   \n",
       "6  20.60826  20.42573    7773       301        2       462  1.246262e+19   \n",
       "7  19.48794  18.84999    7773       301        2       346  6.961443e+18   \n",
       "8  19.46490  18.95852    3716       301        5       108  7.459285e+18   \n",
       "9  18.81823  18.65422    5934       301        4       122  2.751763e+18   \n",
       "\n",
       "    class  redshift  plate    MJD  fiber_ID  \n",
       "0  GALAXY  0.634794   5812  56354       171  \n",
       "1  GALAXY  0.779136  10445  58158       427  \n",
       "2  GALAXY  0.644195   4576  55592       299  \n",
       "3  GALAXY  0.932346   9149  58039       775  \n",
       "4  GALAXY  0.116123   6121  56187       842  \n",
       "5     QSO  1.424659   5026  55855       741  \n",
       "6     QSO  0.586455  11069  58456       113  \n",
       "7  GALAXY  0.477009   6183  56210        15  \n",
       "8  GALAXY  0.660012   6625  56386       719  \n",
       "9    STAR -0.000008   2444  54082       232  "
      ]
     },
     "execution_count": 3,
     "metadata": {},
     "output_type": "execute_result"
    }
   ],
   "source": [
    "data.head(10)"
   ]
  },
  {
   "cell_type": "code",
   "execution_count": 4,
   "id": "e4e4ddb5",
   "metadata": {
    "scrolled": true
   },
   "outputs": [
    {
     "data": {
      "text/html": [
       "<div>\n",
       "<style scoped>\n",
       "    .dataframe tbody tr th:only-of-type {\n",
       "        vertical-align: middle;\n",
       "    }\n",
       "\n",
       "    .dataframe tbody tr th {\n",
       "        vertical-align: top;\n",
       "    }\n",
       "\n",
       "    .dataframe thead th {\n",
       "        text-align: right;\n",
       "    }\n",
       "</style>\n",
       "<table border=\"1\" class=\"dataframe\">\n",
       "  <thead>\n",
       "    <tr style=\"text-align: right;\">\n",
       "      <th></th>\n",
       "      <th>obj_ID</th>\n",
       "      <th>alpha</th>\n",
       "      <th>delta</th>\n",
       "      <th>u</th>\n",
       "      <th>g</th>\n",
       "      <th>r</th>\n",
       "      <th>i</th>\n",
       "      <th>z</th>\n",
       "      <th>run_ID</th>\n",
       "      <th>rerun_ID</th>\n",
       "      <th>cam_col</th>\n",
       "      <th>field_ID</th>\n",
       "      <th>spec_obj_ID</th>\n",
       "      <th>redshift</th>\n",
       "      <th>plate</th>\n",
       "      <th>MJD</th>\n",
       "      <th>fiber_ID</th>\n",
       "    </tr>\n",
       "  </thead>\n",
       "  <tbody>\n",
       "    <tr>\n",
       "      <th>count</th>\n",
       "      <td>1.000000e+05</td>\n",
       "      <td>100000.000000</td>\n",
       "      <td>100000.000000</td>\n",
       "      <td>100000.000000</td>\n",
       "      <td>100000.000000</td>\n",
       "      <td>100000.000000</td>\n",
       "      <td>100000.000000</td>\n",
       "      <td>100000.000000</td>\n",
       "      <td>100000.000000</td>\n",
       "      <td>100000.0</td>\n",
       "      <td>100000.000000</td>\n",
       "      <td>100000.000000</td>\n",
       "      <td>1.000000e+05</td>\n",
       "      <td>100000.000000</td>\n",
       "      <td>100000.000000</td>\n",
       "      <td>100000.000000</td>\n",
       "      <td>100000.000000</td>\n",
       "    </tr>\n",
       "    <tr>\n",
       "      <th>mean</th>\n",
       "      <td>1.237665e+18</td>\n",
       "      <td>177.629117</td>\n",
       "      <td>24.135305</td>\n",
       "      <td>21.980468</td>\n",
       "      <td>20.531387</td>\n",
       "      <td>19.645762</td>\n",
       "      <td>19.084854</td>\n",
       "      <td>18.668810</td>\n",
       "      <td>4481.366060</td>\n",
       "      <td>301.0</td>\n",
       "      <td>3.511610</td>\n",
       "      <td>186.130520</td>\n",
       "      <td>5.783882e+18</td>\n",
       "      <td>0.576661</td>\n",
       "      <td>5137.009660</td>\n",
       "      <td>55588.647500</td>\n",
       "      <td>449.312740</td>\n",
       "    </tr>\n",
       "    <tr>\n",
       "      <th>std</th>\n",
       "      <td>8.438560e+12</td>\n",
       "      <td>96.502241</td>\n",
       "      <td>19.644665</td>\n",
       "      <td>31.769291</td>\n",
       "      <td>31.750292</td>\n",
       "      <td>1.854760</td>\n",
       "      <td>1.757895</td>\n",
       "      <td>31.728152</td>\n",
       "      <td>1964.764593</td>\n",
       "      <td>0.0</td>\n",
       "      <td>1.586912</td>\n",
       "      <td>149.011073</td>\n",
       "      <td>3.324016e+18</td>\n",
       "      <td>0.730707</td>\n",
       "      <td>2952.303351</td>\n",
       "      <td>1808.484233</td>\n",
       "      <td>272.498404</td>\n",
       "    </tr>\n",
       "    <tr>\n",
       "      <th>min</th>\n",
       "      <td>1.237646e+18</td>\n",
       "      <td>0.005528</td>\n",
       "      <td>-18.785328</td>\n",
       "      <td>-9999.000000</td>\n",
       "      <td>-9999.000000</td>\n",
       "      <td>9.822070</td>\n",
       "      <td>9.469903</td>\n",
       "      <td>-9999.000000</td>\n",
       "      <td>109.000000</td>\n",
       "      <td>301.0</td>\n",
       "      <td>1.000000</td>\n",
       "      <td>11.000000</td>\n",
       "      <td>2.995191e+17</td>\n",
       "      <td>-0.009971</td>\n",
       "      <td>266.000000</td>\n",
       "      <td>51608.000000</td>\n",
       "      <td>1.000000</td>\n",
       "    </tr>\n",
       "    <tr>\n",
       "      <th>25%</th>\n",
       "      <td>1.237659e+18</td>\n",
       "      <td>127.518222</td>\n",
       "      <td>5.146771</td>\n",
       "      <td>20.352353</td>\n",
       "      <td>18.965230</td>\n",
       "      <td>18.135828</td>\n",
       "      <td>17.732285</td>\n",
       "      <td>17.460677</td>\n",
       "      <td>3187.000000</td>\n",
       "      <td>301.0</td>\n",
       "      <td>2.000000</td>\n",
       "      <td>82.000000</td>\n",
       "      <td>2.844138e+18</td>\n",
       "      <td>0.054517</td>\n",
       "      <td>2526.000000</td>\n",
       "      <td>54234.000000</td>\n",
       "      <td>221.000000</td>\n",
       "    </tr>\n",
       "    <tr>\n",
       "      <th>50%</th>\n",
       "      <td>1.237663e+18</td>\n",
       "      <td>180.900700</td>\n",
       "      <td>23.645922</td>\n",
       "      <td>22.179135</td>\n",
       "      <td>21.099835</td>\n",
       "      <td>20.125290</td>\n",
       "      <td>19.405145</td>\n",
       "      <td>19.004595</td>\n",
       "      <td>4188.000000</td>\n",
       "      <td>301.0</td>\n",
       "      <td>4.000000</td>\n",
       "      <td>146.000000</td>\n",
       "      <td>5.614883e+18</td>\n",
       "      <td>0.424173</td>\n",
       "      <td>4987.000000</td>\n",
       "      <td>55868.500000</td>\n",
       "      <td>433.000000</td>\n",
       "    </tr>\n",
       "    <tr>\n",
       "      <th>75%</th>\n",
       "      <td>1.237668e+18</td>\n",
       "      <td>233.895005</td>\n",
       "      <td>39.901550</td>\n",
       "      <td>23.687440</td>\n",
       "      <td>22.123767</td>\n",
       "      <td>21.044785</td>\n",
       "      <td>20.396495</td>\n",
       "      <td>19.921120</td>\n",
       "      <td>5326.000000</td>\n",
       "      <td>301.0</td>\n",
       "      <td>5.000000</td>\n",
       "      <td>241.000000</td>\n",
       "      <td>8.332144e+18</td>\n",
       "      <td>0.704154</td>\n",
       "      <td>7400.250000</td>\n",
       "      <td>56777.000000</td>\n",
       "      <td>645.000000</td>\n",
       "    </tr>\n",
       "    <tr>\n",
       "      <th>max</th>\n",
       "      <td>1.237681e+18</td>\n",
       "      <td>359.999810</td>\n",
       "      <td>83.000519</td>\n",
       "      <td>32.781390</td>\n",
       "      <td>31.602240</td>\n",
       "      <td>29.571860</td>\n",
       "      <td>32.141470</td>\n",
       "      <td>29.383740</td>\n",
       "      <td>8162.000000</td>\n",
       "      <td>301.0</td>\n",
       "      <td>6.000000</td>\n",
       "      <td>989.000000</td>\n",
       "      <td>1.412694e+19</td>\n",
       "      <td>7.011245</td>\n",
       "      <td>12547.000000</td>\n",
       "      <td>58932.000000</td>\n",
       "      <td>1000.000000</td>\n",
       "    </tr>\n",
       "  </tbody>\n",
       "</table>\n",
       "</div>"
      ],
      "text/plain": [
       "             obj_ID          alpha          delta              u  \\\n",
       "count  1.000000e+05  100000.000000  100000.000000  100000.000000   \n",
       "mean   1.237665e+18     177.629117      24.135305      21.980468   \n",
       "std    8.438560e+12      96.502241      19.644665      31.769291   \n",
       "min    1.237646e+18       0.005528     -18.785328   -9999.000000   \n",
       "25%    1.237659e+18     127.518222       5.146771      20.352353   \n",
       "50%    1.237663e+18     180.900700      23.645922      22.179135   \n",
       "75%    1.237668e+18     233.895005      39.901550      23.687440   \n",
       "max    1.237681e+18     359.999810      83.000519      32.781390   \n",
       "\n",
       "                   g              r              i              z  \\\n",
       "count  100000.000000  100000.000000  100000.000000  100000.000000   \n",
       "mean       20.531387      19.645762      19.084854      18.668810   \n",
       "std        31.750292       1.854760       1.757895      31.728152   \n",
       "min     -9999.000000       9.822070       9.469903   -9999.000000   \n",
       "25%        18.965230      18.135828      17.732285      17.460677   \n",
       "50%        21.099835      20.125290      19.405145      19.004595   \n",
       "75%        22.123767      21.044785      20.396495      19.921120   \n",
       "max        31.602240      29.571860      32.141470      29.383740   \n",
       "\n",
       "              run_ID  rerun_ID        cam_col       field_ID   spec_obj_ID  \\\n",
       "count  100000.000000  100000.0  100000.000000  100000.000000  1.000000e+05   \n",
       "mean     4481.366060     301.0       3.511610     186.130520  5.783882e+18   \n",
       "std      1964.764593       0.0       1.586912     149.011073  3.324016e+18   \n",
       "min       109.000000     301.0       1.000000      11.000000  2.995191e+17   \n",
       "25%      3187.000000     301.0       2.000000      82.000000  2.844138e+18   \n",
       "50%      4188.000000     301.0       4.000000     146.000000  5.614883e+18   \n",
       "75%      5326.000000     301.0       5.000000     241.000000  8.332144e+18   \n",
       "max      8162.000000     301.0       6.000000     989.000000  1.412694e+19   \n",
       "\n",
       "            redshift          plate            MJD       fiber_ID  \n",
       "count  100000.000000  100000.000000  100000.000000  100000.000000  \n",
       "mean        0.576661    5137.009660   55588.647500     449.312740  \n",
       "std         0.730707    2952.303351    1808.484233     272.498404  \n",
       "min        -0.009971     266.000000   51608.000000       1.000000  \n",
       "25%         0.054517    2526.000000   54234.000000     221.000000  \n",
       "50%         0.424173    4987.000000   55868.500000     433.000000  \n",
       "75%         0.704154    7400.250000   56777.000000     645.000000  \n",
       "max         7.011245   12547.000000   58932.000000    1000.000000  "
      ]
     },
     "execution_count": 4,
     "metadata": {},
     "output_type": "execute_result"
    }
   ],
   "source": [
    "data.describe()"
   ]
  },
  {
   "cell_type": "markdown",
   "id": "67ae51be",
   "metadata": {},
   "source": [
    "It can be seen, that there are values, which doesn't make sense, such as -9999. These are outliers. To get rid of them, I will use LocalOutlierFactor function from sklearn."
   ]
  },
  {
   "cell_type": "markdown",
   "id": "644a9920",
   "metadata": {},
   "source": [
    "# 3 Preprocessing"
   ]
  },
  {
   "cell_type": "markdown",
   "id": "95affa52",
   "metadata": {},
   "source": [
    "First I change classes to numbers: \"GALAXY\" - 0, \"Star\" - 1, \"QSO\" - 2"
   ]
  },
  {
   "cell_type": "code",
   "execution_count": 5,
   "id": "3bb247fb",
   "metadata": {},
   "outputs": [],
   "source": [
    "data[\"class\"]=[0 if i == \"GALAXY\" else 1 if i == \"STAR\" else 2 for i in data[\"class\"]]"
   ]
  },
  {
   "cell_type": "code",
   "execution_count": 6,
   "id": "624ece3a",
   "metadata": {},
   "outputs": [],
   "source": [
    "clf = LocalOutlierFactor()\n",
    "clf.fit_predict(data) # fitting outlier detector\n",
    "x_score = clf.negative_outlier_factor_ # getting score for each record\n",
    "outlier_score = pd.DataFrame()\n",
    "outlier_score[\"score\"] = x_score # saving score to dataframe\n",
    "\n",
    "#filter for dropping                                           \n",
    "filter2 = outlier_score[\"score\"] < -1.5 #  all records with outlier score less than -1.5 will be dropped\n",
    "outlier_index = outlier_score[filter2].index.tolist() # creating list of indexes to delete\n",
    "data.drop(outlier_index, inplace=True)"
   ]
  },
  {
   "cell_type": "code",
   "execution_count": 7,
   "id": "e69fe73d",
   "metadata": {},
   "outputs": [
    {
     "data": {
      "text/html": [
       "<div>\n",
       "<style scoped>\n",
       "    .dataframe tbody tr th:only-of-type {\n",
       "        vertical-align: middle;\n",
       "    }\n",
       "\n",
       "    .dataframe tbody tr th {\n",
       "        vertical-align: top;\n",
       "    }\n",
       "\n",
       "    .dataframe thead th {\n",
       "        text-align: right;\n",
       "    }\n",
       "</style>\n",
       "<table border=\"1\" class=\"dataframe\">\n",
       "  <thead>\n",
       "    <tr style=\"text-align: right;\">\n",
       "      <th></th>\n",
       "      <th>obj_ID</th>\n",
       "      <th>alpha</th>\n",
       "      <th>delta</th>\n",
       "      <th>u</th>\n",
       "      <th>g</th>\n",
       "      <th>r</th>\n",
       "      <th>i</th>\n",
       "      <th>z</th>\n",
       "      <th>run_ID</th>\n",
       "      <th>rerun_ID</th>\n",
       "      <th>cam_col</th>\n",
       "      <th>field_ID</th>\n",
       "      <th>spec_obj_ID</th>\n",
       "      <th>class</th>\n",
       "      <th>redshift</th>\n",
       "      <th>plate</th>\n",
       "      <th>MJD</th>\n",
       "      <th>fiber_ID</th>\n",
       "    </tr>\n",
       "  </thead>\n",
       "  <tbody>\n",
       "    <tr>\n",
       "      <th>count</th>\n",
       "      <td>8.474600e+04</td>\n",
       "      <td>84746.000000</td>\n",
       "      <td>84746.000000</td>\n",
       "      <td>84746.000000</td>\n",
       "      <td>84746.000000</td>\n",
       "      <td>84746.000000</td>\n",
       "      <td>84746.000000</td>\n",
       "      <td>84746.000000</td>\n",
       "      <td>84746.000000</td>\n",
       "      <td>84746.0</td>\n",
       "      <td>84746.000000</td>\n",
       "      <td>84746.000000</td>\n",
       "      <td>8.474600e+04</td>\n",
       "      <td>84746.000000</td>\n",
       "      <td>84746.000000</td>\n",
       "      <td>84746.000000</td>\n",
       "      <td>84746.000000</td>\n",
       "      <td>84746.000000</td>\n",
       "    </tr>\n",
       "    <tr>\n",
       "      <th>mean</th>\n",
       "      <td>1.237665e+18</td>\n",
       "      <td>178.101250</td>\n",
       "      <td>24.016513</td>\n",
       "      <td>22.075138</td>\n",
       "      <td>20.624655</td>\n",
       "      <td>19.639618</td>\n",
       "      <td>19.080727</td>\n",
       "      <td>18.765849</td>\n",
       "      <td>4481.310847</td>\n",
       "      <td>301.0</td>\n",
       "      <td>3.539707</td>\n",
       "      <td>185.658485</td>\n",
       "      <td>5.760702e+18</td>\n",
       "      <td>0.592465</td>\n",
       "      <td>0.577127</td>\n",
       "      <td>5116.421011</td>\n",
       "      <td>55574.453001</td>\n",
       "      <td>450.008449</td>\n",
       "    </tr>\n",
       "    <tr>\n",
       "      <th>std</th>\n",
       "      <td>8.413370e+12</td>\n",
       "      <td>96.526583</td>\n",
       "      <td>19.611225</td>\n",
       "      <td>2.242892</td>\n",
       "      <td>2.025268</td>\n",
       "      <td>1.847455</td>\n",
       "      <td>1.755296</td>\n",
       "      <td>1.765619</td>\n",
       "      <td>1958.899752</td>\n",
       "      <td>0.0</td>\n",
       "      <td>1.584227</td>\n",
       "      <td>149.047205</td>\n",
       "      <td>3.321597e+18</td>\n",
       "      <td>0.789182</td>\n",
       "      <td>0.728731</td>\n",
       "      <td>2950.155223</td>\n",
       "      <td>1813.290847</td>\n",
       "      <td>270.255489</td>\n",
       "    </tr>\n",
       "    <tr>\n",
       "      <th>min</th>\n",
       "      <td>1.237646e+18</td>\n",
       "      <td>0.005528</td>\n",
       "      <td>-17.636198</td>\n",
       "      <td>10.996230</td>\n",
       "      <td>12.679020</td>\n",
       "      <td>11.746640</td>\n",
       "      <td>11.299560</td>\n",
       "      <td>10.897380</td>\n",
       "      <td>109.000000</td>\n",
       "      <td>301.0</td>\n",
       "      <td>1.000000</td>\n",
       "      <td>11.000000</td>\n",
       "      <td>2.995191e+17</td>\n",
       "      <td>0.000000</td>\n",
       "      <td>-0.009971</td>\n",
       "      <td>266.000000</td>\n",
       "      <td>51608.000000</td>\n",
       "      <td>1.000000</td>\n",
       "    </tr>\n",
       "    <tr>\n",
       "      <th>25%</th>\n",
       "      <td>1.237659e+18</td>\n",
       "      <td>128.136967</td>\n",
       "      <td>4.698132</td>\n",
       "      <td>20.350460</td>\n",
       "      <td>18.959375</td>\n",
       "      <td>18.125643</td>\n",
       "      <td>17.723150</td>\n",
       "      <td>17.445285</td>\n",
       "      <td>3187.000000</td>\n",
       "      <td>301.0</td>\n",
       "      <td>2.000000</td>\n",
       "      <td>82.000000</td>\n",
       "      <td>2.802408e+18</td>\n",
       "      <td>0.000000</td>\n",
       "      <td>0.060012</td>\n",
       "      <td>2489.000000</td>\n",
       "      <td>54212.000000</td>\n",
       "      <td>224.000000</td>\n",
       "    </tr>\n",
       "    <tr>\n",
       "      <th>50%</th>\n",
       "      <td>1.237663e+18</td>\n",
       "      <td>181.293281</td>\n",
       "      <td>23.730643</td>\n",
       "      <td>22.165595</td>\n",
       "      <td>21.086370</td>\n",
       "      <td>20.114135</td>\n",
       "      <td>19.397110</td>\n",
       "      <td>18.999470</td>\n",
       "      <td>4188.000000</td>\n",
       "      <td>301.0</td>\n",
       "      <td>4.000000</td>\n",
       "      <td>146.000000</td>\n",
       "      <td>5.604917e+18</td>\n",
       "      <td>0.000000</td>\n",
       "      <td>0.424282</td>\n",
       "      <td>4978.000000</td>\n",
       "      <td>55866.000000</td>\n",
       "      <td>435.000000</td>\n",
       "    </tr>\n",
       "    <tr>\n",
       "      <th>75%</th>\n",
       "      <td>1.237668e+18</td>\n",
       "      <td>233.944623</td>\n",
       "      <td>39.807760</td>\n",
       "      <td>23.672718</td>\n",
       "      <td>22.116512</td>\n",
       "      <td>21.029507</td>\n",
       "      <td>20.384258</td>\n",
       "      <td>19.922400</td>\n",
       "      <td>5323.000000</td>\n",
       "      <td>301.0</td>\n",
       "      <td>5.000000</td>\n",
       "      <td>239.000000</td>\n",
       "      <td>8.322690e+18</td>\n",
       "      <td>1.000000</td>\n",
       "      <td>0.704136</td>\n",
       "      <td>7392.000000</td>\n",
       "      <td>56772.000000</td>\n",
       "      <td>643.000000</td>\n",
       "    </tr>\n",
       "    <tr>\n",
       "      <th>max</th>\n",
       "      <td>1.237681e+18</td>\n",
       "      <td>359.999810</td>\n",
       "      <td>79.343076</td>\n",
       "      <td>32.781390</td>\n",
       "      <td>31.602240</td>\n",
       "      <td>29.571860</td>\n",
       "      <td>32.141470</td>\n",
       "      <td>29.383740</td>\n",
       "      <td>8162.000000</td>\n",
       "      <td>301.0</td>\n",
       "      <td>6.000000</td>\n",
       "      <td>989.000000</td>\n",
       "      <td>1.412685e+19</td>\n",
       "      <td>2.000000</td>\n",
       "      <td>7.011245</td>\n",
       "      <td>12547.000000</td>\n",
       "      <td>58932.000000</td>\n",
       "      <td>1000.000000</td>\n",
       "    </tr>\n",
       "  </tbody>\n",
       "</table>\n",
       "</div>"
      ],
      "text/plain": [
       "             obj_ID         alpha         delta             u             g  \\\n",
       "count  8.474600e+04  84746.000000  84746.000000  84746.000000  84746.000000   \n",
       "mean   1.237665e+18    178.101250     24.016513     22.075138     20.624655   \n",
       "std    8.413370e+12     96.526583     19.611225      2.242892      2.025268   \n",
       "min    1.237646e+18      0.005528    -17.636198     10.996230     12.679020   \n",
       "25%    1.237659e+18    128.136967      4.698132     20.350460     18.959375   \n",
       "50%    1.237663e+18    181.293281     23.730643     22.165595     21.086370   \n",
       "75%    1.237668e+18    233.944623     39.807760     23.672718     22.116512   \n",
       "max    1.237681e+18    359.999810     79.343076     32.781390     31.602240   \n",
       "\n",
       "                  r             i             z        run_ID  rerun_ID  \\\n",
       "count  84746.000000  84746.000000  84746.000000  84746.000000   84746.0   \n",
       "mean      19.639618     19.080727     18.765849   4481.310847     301.0   \n",
       "std        1.847455      1.755296      1.765619   1958.899752       0.0   \n",
       "min       11.746640     11.299560     10.897380    109.000000     301.0   \n",
       "25%       18.125643     17.723150     17.445285   3187.000000     301.0   \n",
       "50%       20.114135     19.397110     18.999470   4188.000000     301.0   \n",
       "75%       21.029507     20.384258     19.922400   5323.000000     301.0   \n",
       "max       29.571860     32.141470     29.383740   8162.000000     301.0   \n",
       "\n",
       "            cam_col      field_ID   spec_obj_ID         class      redshift  \\\n",
       "count  84746.000000  84746.000000  8.474600e+04  84746.000000  84746.000000   \n",
       "mean       3.539707    185.658485  5.760702e+18      0.592465      0.577127   \n",
       "std        1.584227    149.047205  3.321597e+18      0.789182      0.728731   \n",
       "min        1.000000     11.000000  2.995191e+17      0.000000     -0.009971   \n",
       "25%        2.000000     82.000000  2.802408e+18      0.000000      0.060012   \n",
       "50%        4.000000    146.000000  5.604917e+18      0.000000      0.424282   \n",
       "75%        5.000000    239.000000  8.322690e+18      1.000000      0.704136   \n",
       "max        6.000000    989.000000  1.412685e+19      2.000000      7.011245   \n",
       "\n",
       "              plate           MJD      fiber_ID  \n",
       "count  84746.000000  84746.000000  84746.000000  \n",
       "mean    5116.421011  55574.453001    450.008449  \n",
       "std     2950.155223   1813.290847    270.255489  \n",
       "min      266.000000  51608.000000      1.000000  \n",
       "25%     2489.000000  54212.000000    224.000000  \n",
       "50%     4978.000000  55866.000000    435.000000  \n",
       "75%     7392.000000  56772.000000    643.000000  \n",
       "max    12547.000000  58932.000000   1000.000000  "
      ]
     },
     "execution_count": 7,
     "metadata": {},
     "output_type": "execute_result"
    }
   ],
   "source": [
    "data.describe()"
   ]
  },
  {
   "cell_type": "markdown",
   "id": "7633a37b",
   "metadata": {},
   "source": [
    "Most negatives values, were  dropped. There are only two: in delta and in redshift. However, these seem to be fine, so I decided to keep them in this dataset."
   ]
  },
  {
   "cell_type": "code",
   "execution_count": 8,
   "id": "96b2d592",
   "metadata": {},
   "outputs": [
    {
     "name": "stdout",
     "output_type": "stream",
     "text": [
      "<class 'pandas.core.frame.DataFrame'>\n",
      "Int64Index: 84746 entries, 0 to 99999\n",
      "Data columns (total 18 columns):\n",
      " #   Column       Non-Null Count  Dtype  \n",
      "---  ------       --------------  -----  \n",
      " 0   obj_ID       84746 non-null  float64\n",
      " 1   alpha        84746 non-null  float64\n",
      " 2   delta        84746 non-null  float64\n",
      " 3   u            84746 non-null  float64\n",
      " 4   g            84746 non-null  float64\n",
      " 5   r            84746 non-null  float64\n",
      " 6   i            84746 non-null  float64\n",
      " 7   z            84746 non-null  float64\n",
      " 8   run_ID       84746 non-null  int64  \n",
      " 9   rerun_ID     84746 non-null  int64  \n",
      " 10  cam_col      84746 non-null  int64  \n",
      " 11  field_ID     84746 non-null  int64  \n",
      " 12  spec_obj_ID  84746 non-null  float64\n",
      " 13  class        84746 non-null  int64  \n",
      " 14  redshift     84746 non-null  float64\n",
      " 15  plate        84746 non-null  int64  \n",
      " 16  MJD          84746 non-null  int64  \n",
      " 17  fiber_ID     84746 non-null  int64  \n",
      "dtypes: float64(10), int64(8)\n",
      "memory usage: 12.3 MB\n"
     ]
    }
   ],
   "source": [
    "data.info()"
   ]
  },
  {
   "cell_type": "markdown",
   "id": "9ef03b45",
   "metadata": {},
   "source": [
    "Our dataset doesn't contain any NaN values. However, there is a different problem with it. The size of each class is not balanced:"
   ]
  },
  {
   "cell_type": "code",
   "execution_count": 9,
   "id": "d6cb3485",
   "metadata": {},
   "outputs": [
    {
     "data": {
      "text/plain": [
       "0    50696\n",
       "1    17891\n",
       "2    16159\n",
       "Name: class, dtype: int64"
      ]
     },
     "execution_count": 9,
     "metadata": {},
     "output_type": "execute_result"
    }
   ],
   "source": [
    "data['class'].value_counts()"
   ]
  },
  {
   "cell_type": "code",
   "execution_count": 10,
   "id": "c787e2d7",
   "metadata": {},
   "outputs": [
    {
     "data": {
      "image/png": "[encoded data removed]",
      "text/plain": [
       "<Figure size 640x480 with 1 Axes>"
      ]
     },
     "metadata": {},
     "output_type": "display_data"
    }
   ],
   "source": [
    "sns.countplot(data, x= 'class')\n",
    "plt.title(\"Class \",fontsize=10)\n",
    "plt.show()"
   ]
  },
  {
   "cell_type": "markdown",
   "id": "39a6bcd5",
   "metadata": {},
   "source": [
    "I decided to try two different approaches: first one is to classify with such unbalanced classes and without standardization. In the second approach, I will use oversampling to balance all classes and standardize all data."
   ]
  },
  {
   "cell_type": "markdown",
   "id": "6b282cff",
   "metadata": {},
   "source": [
    "# 4 Feature selection"
   ]
  },
  {
   "cell_type": "markdown",
   "id": "fc13ff6e",
   "metadata": {},
   "source": [
    "For selecting features, I decided to use anova."
   ]
  },
  {
   "cell_type": "code",
   "execution_count": 11,
   "id": "05a3cc04",
   "metadata": {},
   "outputs": [],
   "source": [
    "X = data.drop('class', axis = 1)\n",
    "y = data['class']"
   ]
  },
  {
   "cell_type": "code",
   "execution_count": 12,
   "id": "d81296c2",
   "metadata": {},
   "outputs": [
    {
     "name": "stderr",
     "output_type": "stream",
     "text": [
      "C:\\Users\\danio\\Anaconda3\\envs\\roj\\lib\\site-packages\\sklearn\\feature_selection\\_univariate_selection.py:112: UserWarning: Features [9] are constant.\n",
      "  warnings.warn(\"Features %s are constant.\" % constant_features_idx, UserWarning)\n",
      "C:\\Users\\danio\\Anaconda3\\envs\\roj\\lib\\site-packages\\sklearn\\feature_selection\\_univariate_selection.py:113: RuntimeWarning: invalid value encountered in divide\n",
      "  f = msb / msw\n"
     ]
    },
    {
     "data": {
      "text/plain": [
       "['u',\n",
       " 'g',\n",
       " 'r',\n",
       " 'i',\n",
       " 'z',\n",
       " 'spec_obj_ID',\n",
       " 'redshift',\n",
       " 'plate',\n",
       " 'MJD',\n",
       " 'fiber_ID']"
      ]
     },
     "execution_count": 12,
     "metadata": {},
     "output_type": "execute_result"
    }
   ],
   "source": [
    "best_features = SelectKBest(score_func = f_classif, k = 10)\n",
    "kbest_anova = best_features.fit(X, y)\n",
    "anova_feats = [feat for feat in list(kbest_anova.get_support()*X.columns) if feat !=''] \n",
    "# get_support gives boolean list , where True  means that feature have impact on target fature\n",
    "anova_feats"
   ]
  },
  {
   "cell_type": "code",
   "execution_count": 13,
   "id": "5d0b694c",
   "metadata": {},
   "outputs": [],
   "source": [
    "X = X[anova_feats] # taking from dataset only those features, which have impact on target column"
   ]
  },
  {
   "cell_type": "markdown",
   "id": "42064c93",
   "metadata": {},
   "source": [
    "# 5 Fitting models - first approach"
   ]
  },
  {
   "cell_type": "markdown",
   "id": "414ceed8",
   "metadata": {},
   "source": [
    "To build a classificator I need to decide, which model works great for this data. I decided to verify models such as, Decision Tree, Naive Bayes, KNN and some Neural Networks."
   ]
  },
  {
   "cell_type": "markdown",
   "id": "1f267299",
   "metadata": {},
   "source": [
    "Splitting data to train and test sets"
   ]
  },
  {
   "cell_type": "code",
   "execution_count": 14,
   "id": "970e65b7",
   "metadata": {},
   "outputs": [],
   "source": [
    "X_train, X_test, y_train, y_test = train_test_split(X, y, test_size = 0.3, random_state = 275)"
   ]
  },
  {
   "cell_type": "markdown",
   "id": "b271b559",
   "metadata": {},
   "source": [
    "## 5.1 Decision Tree, max_depth 5"
   ]
  },
  {
   "cell_type": "markdown",
   "id": "22ef49ab",
   "metadata": {},
   "source": [
    "First model to check is decision tree, in which I decided to limit its depth"
   ]
  },
  {
   "cell_type": "code",
   "execution_count": 15,
   "id": "efb181f1",
   "metadata": {},
   "outputs": [
    {
     "data": {
      "text/plain": [
       "{'criterion': 'entropy', 'max_features': 'sqrt', 'splitter': 'best'}"
      ]
     },
     "execution_count": 15,
     "metadata": {},
     "output_type": "execute_result"
    }
   ],
   "source": [
    "dt_cut = DecisionTreeClassifier(max_depth = 5) # building simple model, which will be used in gridsearch\n",
    "params = [{\n",
    "    'criterion' : ['gini','entropy','log_loss'],\n",
    "    'splitter' : ['best', 'random'],\n",
    "    'max_features' : ['sqrt', 'log2']\n",
    "}]\n",
    "grid = GridSearchCV(dt_cut, param_grid = params, scoring='accuracy', cv = 5)\n",
    "grid.fit(X_train, y_train)\n",
    "grid.best_params_\n",
    "# gridsearch gives me the best set of model's parameters for my dat"
   ]
  },
  {
   "cell_type": "code",
   "execution_count": 16,
   "id": "6d9be130",
   "metadata": {
    "scrolled": true
   },
   "outputs": [
    {
     "name": "stdout",
     "output_type": "stream",
     "text": [
      "Score on train set : 0.881494217996696\n",
      "Cross validation score: 0.90 accuracy with a standard deviation of 0.05\n",
      "Score on test set : 0.8777139710509755\n"
     ]
    }
   ],
   "source": [
    "dt_cut = DecisionTreeClassifier(max_depth = 5,criterion = 'log_loss', max_features= 'sqrt', splitter= 'best' )\n",
    "dt_cut.fit(X_train, y_train)\n",
    "print('Score on train set : ' + str(dt_cut.score(X_train, y_train)))\n",
    "scores_dt_cut = cross_val_score(dt_cut, X_train, y_train, cv=5)\n",
    "print('Cross validation score: %0.2f accuracy with a standard deviation of %0.2f' % (scores_dt_cut.mean(), scores_dt_cut.std()))\n",
    "# cross val score measures mean score and devation of score for this model\n",
    "pred_dt_cut = dt_cut.predict(X_test)\n",
    "print('Score on test set : ' + str(dt_cut.score(X_test, y_test)))"
   ]
  },
  {
   "cell_type": "markdown",
   "id": "4f2a164f",
   "metadata": {},
   "source": [
    "Score of this model is quite high, but cross validation score indicates, that for different divisions of training and test sets this score would be different. Still, results are good, when you consider that I fed the model with unbalanced and not standardized data."
   ]
  },
  {
   "cell_type": "code",
   "execution_count": 17,
   "id": "16e75e6f",
   "metadata": {
    "scrolled": true
   },
   "outputs": [
    {
     "name": "stdout",
     "output_type": "stream",
     "text": [
      "              precision    recall  f1-score   support\n",
      "\n",
      "           0       0.89      0.96      0.92     15212\n",
      "           1       0.94      0.74      0.83      5310\n",
      "           2       0.78      0.77      0.78      4902\n",
      "\n",
      "    accuracy                           0.88     25424\n",
      "   macro avg       0.87      0.82      0.84     25424\n",
      "weighted avg       0.88      0.88      0.88     25424\n",
      "\n"
     ]
    }
   ],
   "source": [
    "print(classification_report(y_test, pred_dt_cut))"
   ]
  },
  {
   "cell_type": "markdown",
   "id": "5d3e7f42",
   "metadata": {},
   "source": [
    "Despite the unbalanced and not standardized data, results of this model are quite good. It only struggles a little with the last class, as it is the  smallest class."
   ]
  },
  {
   "cell_type": "markdown",
   "id": "75f14e34",
   "metadata": {},
   "source": [
    "## 5.2 Decision Tree without max depth"
   ]
  },
  {
   "cell_type": "markdown",
   "id": "8c095b8f",
   "metadata": {},
   "source": [
    "Now I will check if decision tree with limited depth will have better results"
   ]
  },
  {
   "cell_type": "code",
   "execution_count": 18,
   "id": "965f20ef",
   "metadata": {},
   "outputs": [
    {
     "data": {
      "text/plain": [
       "{'criterion': 'entropy', 'max_features': 'sqrt', 'splitter': 'best'}"
      ]
     },
     "execution_count": 18,
     "metadata": {},
     "output_type": "execute_result"
    }
   ],
   "source": [
    "dt = DecisionTreeClassifier()\n",
    "params = [{\n",
    "    'criterion' : ['gini','entropy','log_loss'],\n",
    "    'splitter' : ['best', 'random'],\n",
    "    'max_features' : ['sqrt', 'log2']\n",
    "}]\n",
    "grid = GridSearchCV(dt, param_grid = params, scoring='accuracy', cv = 5)\n",
    "grid.fit(X_train, y_train)\n",
    "grid.best_params_"
   ]
  },
  {
   "cell_type": "code",
   "execution_count": 19,
   "id": "0300a74b",
   "metadata": {},
   "outputs": [
    {
     "name": "stdout",
     "output_type": "stream",
     "text": [
      "Score on train set : 1.0\n",
      "Cross validation score: 0.96 accuracy with a standard deviation of 0.00\n",
      "Score on test set : 0.9572844556324732\n"
     ]
    }
   ],
   "source": [
    "dt = DecisionTreeClassifier(criterion = 'log_loss', max_features= 'log2', splitter= 'best' )\n",
    "dt.fit(X_train, y_train)\n",
    "print('Score on train set : ' + str(dt.score(X_train, y_train)))\n",
    "scores_dt = cross_val_score(dt, X_train, y_train, cv=5)\n",
    "print('Cross validation score: %0.2f accuracy with a standard deviation of %0.2f' % (scores_dt.mean(), scores_dt.std()))\n",
    "pred_dt = dt.predict(X_test)\n",
    "print('Score on test set : ' + str(dt.score(X_test, y_test)))"
   ]
  },
  {
   "cell_type": "code",
   "execution_count": 20,
   "id": "81b7e715",
   "metadata": {
    "scrolled": true
   },
   "outputs": [
    {
     "data": {
      "text/plain": [
       "array([0.95802781, 0.95592078, 0.95625421, 0.95279838, 0.96291301])"
      ]
     },
     "execution_count": 20,
     "metadata": {},
     "output_type": "execute_result"
    }
   ],
   "source": [
    "scores_dt"
   ]
  },
  {
   "cell_type": "code",
   "execution_count": 21,
   "id": "73b9ce4a",
   "metadata": {},
   "outputs": [
    {
     "data": {
      "text/plain": [
       "0.003323477172414516"
      ]
     },
     "execution_count": 21,
     "metadata": {},
     "output_type": "execute_result"
    }
   ],
   "source": [
    "scores_dt.std()"
   ]
  },
  {
   "cell_type": "markdown",
   "id": "431f0463",
   "metadata": {},
   "source": [
    "Now, cross validation score  is near the results for train and test set, which shows that this model is very stable and well-trained."
   ]
  },
  {
   "cell_type": "code",
   "execution_count": 20,
   "id": "1e93510a",
   "metadata": {},
   "outputs": [
    {
     "name": "stdout",
     "output_type": "stream",
     "text": [
      "              precision    recall  f1-score   support\n",
      "\n",
      "           0       0.97      0.97      0.97     15212\n",
      "           1       0.99      0.99      0.99      5310\n",
      "           2       0.91      0.91      0.91      4902\n",
      "\n",
      "    accuracy                           0.96     25424\n",
      "   macro avg       0.96      0.96      0.96     25424\n",
      "weighted avg       0.96      0.96      0.96     25424\n",
      "\n"
     ]
    }
   ],
   "source": [
    "print(classification_report(y_test, pred_dt))"
   ]
  },
  {
   "cell_type": "markdown",
   "id": "5f1d7658",
   "metadata": {},
   "source": [
    "Without restricting the max_depth parameter, the model worked better with each of the target classes. However, it still struggles with the smallest class a little."
   ]
  },
  {
   "cell_type": "markdown",
   "id": "5c97b4c3",
   "metadata": {},
   "source": [
    "## 5.3 Naive Bayes"
   ]
  },
  {
   "cell_type": "markdown",
   "id": "e730dd12",
   "metadata": {},
   "source": [
    "The next model is Naive Bayes. Here I don't use grid search, as GaussianNB model doesn't have many parameters, so I decided to use the basic model."
   ]
  },
  {
   "cell_type": "code",
   "execution_count": 21,
   "id": "03dd13b5",
   "metadata": {},
   "outputs": [],
   "source": [
    "gnb = GaussianNB()"
   ]
  },
  {
   "cell_type": "code",
   "execution_count": 22,
   "id": "932b056a",
   "metadata": {
    "scrolled": true
   },
   "outputs": [
    {
     "name": "stdout",
     "output_type": "stream",
     "text": [
      "Score on train set : 0.602289201308115\n",
      "Cross validation score: 0.60 accuracy with a standard deviation of 0.00\n",
      "Score on test set : 0.6034062303335431\n"
     ]
    }
   ],
   "source": [
    "gnb.fit(X_train, y_train)\n",
    "print('Score on train set : ' + str(gnb.score(X_train, y_train)))\n",
    "scores_gnb = cross_val_score(gnb, X_train, y_train, cv=5)\n",
    "print('Cross validation score: %0.2f accuracy with a standard deviation of %0.2f' % (scores_gnb.mean(), scores_gnb.std()))\n",
    "pred_gnb = gnb.predict(X_test)\n",
    "print('Score on test set : ' + str(gnb.score(X_test, y_test)))"
   ]
  },
  {
   "cell_type": "markdown",
   "id": "a62820f1",
   "metadata": {},
   "source": [
    "Cross validation score is the same as score for training set, but all the results are really low."
   ]
  },
  {
   "cell_type": "code",
   "execution_count": 23,
   "id": "5a7d381c",
   "metadata": {},
   "outputs": [
    {
     "name": "stdout",
     "output_type": "stream",
     "text": [
      "              precision    recall  f1-score   support\n",
      "\n",
      "           0       0.61      0.97      0.75     15212\n",
      "           1       1.00      0.00      0.00      5310\n",
      "           2       0.48      0.12      0.19      4902\n",
      "\n",
      "    accuracy                           0.60     25424\n",
      "   macro avg       0.70      0.36      0.31     25424\n",
      "weighted avg       0.67      0.60      0.48     25424\n",
      "\n"
     ]
    }
   ],
   "source": [
    "print(classification_report(y_test, pred_gnb, zero_division=1)) \n",
    "# I use zero_division parameter to 1 to avoid showing warnig when zero_division happens"
   ]
  },
  {
   "cell_type": "markdown",
   "id": "8a8fea0e",
   "metadata": {},
   "source": [
    "Here it can be easily seen, that Naive Bayes model worked terrible with the smaller classes. Even the results for the biggest classes aren't that good."
   ]
  },
  {
   "cell_type": "markdown",
   "id": "8a355d2a",
   "metadata": {},
   "source": [
    "## 5.4 K Nearest Neighbours model (KNN)"
   ]
  },
  {
   "cell_type": "markdown",
   "id": "cf521120",
   "metadata": {},
   "source": [
    "I decided to check KNN model for 3,5,8 and 12 neighbors. For each of these models, I use grid search to find the best sets of parameters."
   ]
  },
  {
   "cell_type": "markdown",
   "id": "34f60447",
   "metadata": {},
   "source": [
    "### 5.4.1 KNN - 3 neighbors"
   ]
  },
  {
   "cell_type": "code",
   "execution_count": 24,
   "id": "5338d4de",
   "metadata": {},
   "outputs": [
    {
     "data": {
      "text/plain": [
       "{'algorithm': 'brute', 'p': 2, 'weights': 'uniform'}"
      ]
     },
     "execution_count": 24,
     "metadata": {},
     "output_type": "execute_result"
    }
   ],
   "source": [
    "knn_3 = KNeighborsClassifier(n_neighbors=3)\n",
    "params = [{\n",
    "    'weights' : ['uniform','distance'],\n",
    "    'algorithm' : ['auto', 'ball_tree', 'kd_tree', 'brute'],\n",
    "    'p' : [1, 2]\n",
    "}]\n",
    "grid = GridSearchCV(knn_3, param_grid = params, scoring='accuracy', cv = 5)\n",
    "grid.fit(X_train, y_train)\n",
    "grid.best_params_"
   ]
  },
  {
   "cell_type": "code",
   "execution_count": 25,
   "id": "adb04f61",
   "metadata": {},
   "outputs": [
    {
     "name": "stdout",
     "output_type": "stream",
     "text": [
      "Score on train set : 0.8064630322645898\n",
      "Cross validation score: 0.69 accuracy with a standard deviation of 0.00\n",
      "Score on test set : 0.6920232850849591\n"
     ]
    }
   ],
   "source": [
    "knn_3 = KNeighborsClassifier(n_neighbors=3, algorithm = 'brute', p = 2 , weights= 'uniform')\n",
    "knn_3.fit(X_train, y_train)\n",
    "print('Score on train set : ' + str(knn_3.score(X_train, y_train)))\n",
    "scores_knn_3 = cross_val_score(knn_3, X_train, y_train, cv=5)\n",
    "print('Cross validation score: %0.2f accuracy with a standard deviation of %0.2f' % (scores_knn_3.mean(), scores_knn_3.std()))\n",
    "pred_knn_3 = knn_3.predict(X_test)\n",
    "print('Score on test set : ' + str(knn_3.score(X_test, y_test)))"
   ]
  },
  {
   "cell_type": "markdown",
   "id": "293ac3ee",
   "metadata": {},
   "source": [
    "In this model, score for train set is quite high, but cross validation score shows, that this is due to specific train and test set division. So for any other division, score would be different."
   ]
  },
  {
   "cell_type": "code",
   "execution_count": 26,
   "id": "9a14c5b4",
   "metadata": {},
   "outputs": [
    {
     "name": "stdout",
     "output_type": "stream",
     "text": [
      "              precision    recall  f1-score   support\n",
      "\n",
      "           0       0.74      0.87      0.80     15212\n",
      "           1       0.65      0.48      0.56      5310\n",
      "           2       0.50      0.37      0.43      4902\n",
      "\n",
      "    accuracy                           0.69     25424\n",
      "   macro avg       0.63      0.57      0.59     25424\n",
      "weighted avg       0.68      0.69      0.68     25424\n",
      "\n"
     ]
    }
   ],
   "source": [
    "print(classification_report(y_test, pred_knn_3))"
   ]
  },
  {
   "cell_type": "markdown",
   "id": "bd3f2166",
   "metadata": {},
   "source": [
    "This summary shows, that model struggles with all classes. Results for the biggest class are a little bit higher, but still they are far from the results of both decision trees."
   ]
  },
  {
   "cell_type": "markdown",
   "id": "e2bf1828",
   "metadata": {},
   "source": [
    "### 5.4.2 KNN - 5 neighbors"
   ]
  },
  {
   "cell_type": "code",
   "execution_count": 27,
   "id": "8a0fcde1",
   "metadata": {},
   "outputs": [
    {
     "data": {
      "text/plain": [
       "{'algorithm': 'auto', 'p': 2, 'weights': 'uniform'}"
      ]
     },
     "execution_count": 27,
     "metadata": {},
     "output_type": "execute_result"
    }
   ],
   "source": [
    "knn_5 = KNeighborsClassifier(n_neighbors=5)\n",
    "params = [{\n",
    "    'weights' : ['uniform','distance'],\n",
    "    'algorithm' : ['auto', 'ball_tree', 'kd_tree', 'brute'],\n",
    "    'p' : [1, 2]\n",
    "}]\n",
    "grid = GridSearchCV(knn_5, param_grid = params, scoring='accuracy', cv = 5)\n",
    "grid.fit(X_train, y_train)\n",
    "grid.best_params_"
   ]
  },
  {
   "cell_type": "code",
   "execution_count": 28,
   "id": "fd27e643",
   "metadata": {},
   "outputs": [
    {
     "name": "stdout",
     "output_type": "stream",
     "text": [
      "Score on train set : 0.7735915849094771\n",
      "Cross validation score: 0.70 accuracy with a standard deviation of 0.00\n",
      "Score on test set : 0.7042164883574575\n"
     ]
    }
   ],
   "source": [
    "knn_5 = KNeighborsClassifier(n_neighbors=5, algorithm = 'auto', p = 2 , weights= 'uniform')\n",
    "knn_5.fit(X_train, y_train)\n",
    "print('Score on train set : ' + str(knn_5.score(X_train, y_train)))\n",
    "scores_knn_5 = cross_val_score(knn_5, X_train, y_train, cv=5)\n",
    "print('Cross validation score: %0.2f accuracy with a standard deviation of %0.2f' % (scores_knn_5.mean(), scores_knn_5.std()))\n",
    "pred_knn_5 = knn_5.predict(X_test)\n",
    "print('Score on test set : ' + str(knn_5.score(X_test, y_test)))"
   ]
  },
  {
   "cell_type": "markdown",
   "id": "7643fc50",
   "metadata": {},
   "source": [
    "Here score for training set is a little bit higher, but it is near cross validation score."
   ]
  },
  {
   "cell_type": "code",
   "execution_count": 29,
   "id": "06b9c81e",
   "metadata": {
    "scrolled": true
   },
   "outputs": [
    {
     "name": "stdout",
     "output_type": "stream",
     "text": [
      "              precision    recall  f1-score   support\n",
      "\n",
      "           0       0.74      0.89      0.81     15212\n",
      "           1       0.66      0.49      0.57      5310\n",
      "           2       0.53      0.36      0.43      4902\n",
      "\n",
      "    accuracy                           0.70     25424\n",
      "   macro avg       0.65      0.58      0.60     25424\n",
      "weighted avg       0.69      0.70      0.69     25424\n",
      "\n"
     ]
    }
   ],
   "source": [
    "print(classification_report(y_test, pred_knn_5))"
   ]
  },
  {
   "cell_type": "markdown",
   "id": "c886b7d0",
   "metadata": {},
   "source": [
    "Just as for the previous KNN model, this also struggles with unbalanced classes."
   ]
  },
  {
   "cell_type": "markdown",
   "id": "f8e547df",
   "metadata": {},
   "source": [
    "### 5.4.3 KNN - 8 neighbors"
   ]
  },
  {
   "cell_type": "code",
   "execution_count": 30,
   "id": "7058b0a8",
   "metadata": {},
   "outputs": [
    {
     "data": {
      "text/plain": [
       "{'algorithm': 'brute', 'p': 2, 'weights': 'uniform'}"
      ]
     },
     "execution_count": 30,
     "metadata": {},
     "output_type": "execute_result"
    }
   ],
   "source": [
    "knn_8 = KNeighborsClassifier(n_neighbors=8)\n",
    "params = [{\n",
    "    'weights' : ['uniform','distance'],\n",
    "    'algorithm' : ['auto', 'ball_tree', 'kd_tree', 'brute'],\n",
    "    'p' : [1, 2]\n",
    "}]\n",
    "grid = GridSearchCV(knn_8, param_grid = params, scoring='accuracy', cv = 5)\n",
    "grid.fit(X_train, y_train)\n",
    "grid.best_params_"
   ]
  },
  {
   "cell_type": "code",
   "execution_count": 31,
   "id": "c289563a",
   "metadata": {
    "scrolled": true
   },
   "outputs": [
    {
     "name": "stdout",
     "output_type": "stream",
     "text": [
      "Score on train set : 0.7563804322173898\n",
      "Cross validation score: 0.71 accuracy with a standard deviation of 0.00\n",
      "Score on test set : 0.7091724354940214\n"
     ]
    }
   ],
   "source": [
    "knn_8 = KNeighborsClassifier(n_neighbors=8, algorithm = 'brute', p = 2 , weights= 'uniform')\n",
    "knn_8.fit(X_train, y_train)\n",
    "print('Score on train set : ' + str(knn_8.score(X_train, y_train)))\n",
    "scores_knn_8 = cross_val_score(knn_8, X_train, y_train, cv=5)\n",
    "print('Cross validation score: %0.2f accuracy with a standard deviation of %0.2f' % (scores_knn_8.mean(), scores_knn_8.std()))\n",
    "pred_knn_8 = knn_8.predict(X_test)\n",
    "print('Score on test set : ' + str(knn_8.score(X_test, y_test)))"
   ]
  },
  {
   "cell_type": "markdown",
   "id": "bb5bc080",
   "metadata": {},
   "source": [
    "Here, the score of cross validation is near the score for training set, which is fine."
   ]
  },
  {
   "cell_type": "code",
   "execution_count": 32,
   "id": "4be9f60e",
   "metadata": {},
   "outputs": [
    {
     "name": "stdout",
     "output_type": "stream",
     "text": [
      "              precision    recall  f1-score   support\n",
      "\n",
      "           0       0.74      0.90      0.81     15212\n",
      "           1       0.71      0.47      0.57      5310\n",
      "           2       0.54      0.38      0.45      4902\n",
      "\n",
      "    accuracy                           0.71     25424\n",
      "   macro avg       0.66      0.58      0.61     25424\n",
      "weighted avg       0.70      0.71      0.69     25424\n",
      "\n"
     ]
    }
   ],
   "source": [
    "print(classification_report(y_test, pred_knn_8))"
   ]
  },
  {
   "cell_type": "markdown",
   "id": "2b42ade4",
   "metadata": {},
   "source": [
    "This model also struggles with unbalanced data."
   ]
  },
  {
   "cell_type": "markdown",
   "id": "c8b1aac3",
   "metadata": {},
   "source": [
    "### 5.4.4 KNN - 12 neighbors"
   ]
  },
  {
   "cell_type": "code",
   "execution_count": 33,
   "id": "bd79564d",
   "metadata": {},
   "outputs": [
    {
     "data": {
      "text/plain": [
       "{'algorithm': 'brute', 'p': 2, 'weights': 'uniform'}"
      ]
     },
     "execution_count": 33,
     "metadata": {},
     "output_type": "execute_result"
    }
   ],
   "source": [
    "knn_12 = KNeighborsClassifier(n_neighbors=12)\n",
    "params = [{\n",
    "    'weights' : ['uniform','distance'],\n",
    "    'algorithm' : ['auto', 'ball_tree', 'kd_tree', 'brute'],\n",
    "    'p' : [1, 2]\n",
    "}]\n",
    "grid = GridSearchCV(knn_12, param_grid = params, scoring='accuracy', cv = 5)\n",
    "grid.fit(X_train, y_train)\n",
    "grid.best_params_"
   ]
  },
  {
   "cell_type": "code",
   "execution_count": 34,
   "id": "33ce1ba5",
   "metadata": {
    "scrolled": true
   },
   "outputs": [
    {
     "name": "stdout",
     "output_type": "stream",
     "text": [
      "Score on train set : 0.7441589966622838\n",
      "Cross validation score: 0.71 accuracy with a standard deviation of 0.00\n",
      "Score on test set : 0.7145610446821901\n"
     ]
    }
   ],
   "source": [
    "knn_12 = KNeighborsClassifier(n_neighbors=12, algorithm = 'brute', p = 2 , weights= 'uniform')\n",
    "knn_12.fit(X_train, y_train)\n",
    "print('Score on train set : ' + str(knn_12.score(X_train, y_train)))\n",
    "scores_knn_12 = cross_val_score(knn_12, X_train, y_train, cv=5)\n",
    "print('Cross validation score: %0.2f accuracy with a standard deviation of %0.2f' % (scores_knn_12.mean(), scores_knn_12.std()))\n",
    "pred_knn_12 = knn_12.predict(X_test)\n",
    "print('Score on test set : ' + str(knn_12.score(X_test, y_test)))"
   ]
  },
  {
   "cell_type": "markdown",
   "id": "29bbcfb8",
   "metadata": {},
   "source": [
    "In this case, the score of cross validation is also near the score for training set."
   ]
  },
  {
   "cell_type": "code",
   "execution_count": 35,
   "id": "743f7c0f",
   "metadata": {},
   "outputs": [
    {
     "name": "stdout",
     "output_type": "stream",
     "text": [
      "              precision    recall  f1-score   support\n",
      "\n",
      "           0       0.74      0.90      0.81     15212\n",
      "           1       0.77      0.46      0.57      5310\n",
      "           2       0.54      0.41      0.46      4902\n",
      "\n",
      "    accuracy                           0.71     25424\n",
      "   macro avg       0.68      0.59      0.62     25424\n",
      "weighted avg       0.71      0.71      0.70     25424\n",
      "\n"
     ]
    }
   ],
   "source": [
    "print(classification_report(y_test, pred_knn_12))"
   ]
  },
  {
   "cell_type": "markdown",
   "id": "85df0d3f",
   "metadata": {},
   "source": [
    "Even the KNN model with the biggest number of neighbors struggles with unbalanced data."
   ]
  },
  {
   "cell_type": "markdown",
   "id": "f9a86534",
   "metadata": {},
   "source": [
    "### 5.4.5 Summary of KNN models"
   ]
  },
  {
   "cell_type": "markdown",
   "id": "c30d7dfb",
   "metadata": {},
   "source": [
    "Results of all KNN models shows that increasing the numbers of neighbors increase the result a little bit, but the model still struggles with unbalanced data."
   ]
  },
  {
   "cell_type": "markdown",
   "id": "3b4b6c55",
   "metadata": {},
   "source": [
    "## 5.5 Neural Networks"
   ]
  },
  {
   "cell_type": "markdown",
   "id": "47921608",
   "metadata": {},
   "source": [
    "To use neural network I coded target classe as arrays in which one stand on the place indictaing number in target class. So if 1 stand at first place it is a galaxy, when in second place in is a star and whne i third place it is a quasar."
   ]
  },
  {
   "cell_type": "code",
   "execution_count": 36,
   "id": "3d94ef8d",
   "metadata": {},
   "outputs": [
    {
     "name": "stdout",
     "output_type": "stream",
     "text": [
      "[[1. 0. 0.]\n",
      " [1. 0. 0.]\n",
      " [1. 0. 0.]\n",
      " ...\n",
      " [1. 0. 0.]\n",
      " [1. 0. 0.]\n",
      " [1. 0. 0.]]\n"
     ]
    }
   ],
   "source": [
    "y_cat = to_categorical(y)\n",
    "print(y_cat) # showing how encoded classes look like\n",
    "X_train, X_test, y_train, y_test = train_test_split(X, y_cat, test_size = 0.3, random_state = 275)"
   ]
  },
  {
   "cell_type": "markdown",
   "id": "b9a666e2",
   "metadata": {},
   "source": [
    "### 5.5.1 Keras NN1"
   ]
  },
  {
   "cell_type": "markdown",
   "id": "2d4c109d",
   "metadata": {},
   "source": [
    "In the first neural network I have hidden layer with 15 neurons and relu* activation. Then I use dropout technique. Dropout is a technique where randomly selected neurons are ignored during training. They are “dropped out” randomly. This means that their contribution to the activation of downstream neurons is temporally removed on the forward pass, and any weight updates are not applied to the neuron on the backward pass.  My output layer has 3 neurons and softmax activation. I use softmax to get probability of each class as an output. For compilation, I use SGD optimizer with learnig rate set to 0.01, for loss categorical cross entropy and accuracy for metrics."
   ]
  },
  {
   "cell_type": "markdown",
   "id": "18218ef4",
   "metadata": {},
   "source": [
    "*The rectified linear activation function or ReLU for short is a piecewise linear function that will output the input directly if it is positive, otherwise, it will output zero. It has become the default activation function for many types of neural networks because a model that uses it is easier to train and often achieves better performance."
   ]
  },
  {
   "cell_type": "code",
   "execution_count": 37,
   "id": "9ff910de",
   "metadata": {},
   "outputs": [
    {
     "name": "stdout",
     "output_type": "stream",
     "text": [
      "Model: \"sequential\"\n",
      "_________________________________________________________________\n",
      " Layer (type)                Output Shape              Param #   \n",
      "=================================================================\n",
      " dense (Dense)               (None, 15)                165       \n",
      "                                                                 \n",
      " dropout (Dropout)           (None, 15)                0         \n",
      "                                                                 \n",
      " dense_1 (Dense)             (None, 3)                 48        \n",
      "                                                                 \n",
      "=================================================================\n",
      "Total params: 213\n",
      "Trainable params: 213\n",
      "Non-trainable params: 0\n",
      "_________________________________________________________________\n"
     ]
    }
   ],
   "source": [
    "# define the model\n",
    "model1 = Sequential()\n",
    "model1.add(Dense(15, input_shape=(10,), activation='relu'))\n",
    "model1.add(Dropout(0.2))\n",
    "model1.add(Dense(3, activation='softmax'))\n",
    "model1.compile(loss='categorical_crossentropy', optimizer=SGD(learning_rate = 0.01), metrics=['accuracy'])\n",
    "model1.summary()"
   ]
  },
  {
   "cell_type": "code",
   "execution_count": 38,
   "id": "57caca0b",
   "metadata": {
    "scrolled": false
   },
   "outputs": [
    {
     "name": "stdout",
     "output_type": "stream",
     "text": [
      "Epoch 1/50\n",
      "2967/2967 [==============================] - 10s 3ms/step - loss: nan - accuracy: 0.5980 - val_loss: nan - val_accuracy: 0.5983\n",
      "Epoch 2/50\n",
      "2967/2967 [==============================] - 9s 3ms/step - loss: nan - accuracy: 0.5982 - val_loss: nan - val_accuracy: 0.5983\n",
      "Epoch 3/50\n",
      "2967/2967 [==============================] - 9s 3ms/step - loss: nan - accuracy: 0.5982 - val_loss: nan - val_accuracy: 0.5983\n",
      "Epoch 4/50\n",
      "2967/2967 [==============================] - 8s 3ms/step - loss: nan - accuracy: 0.5982 - val_loss: nan - val_accuracy: 0.5983\n",
      "Epoch 5/50\n",
      "2967/2967 [==============================] - 10s 4ms/step - loss: nan - accuracy: 0.5982 - val_loss: nan - val_accuracy: 0.5983\n",
      "Epoch 6/50\n",
      "2967/2967 [==============================] - 8s 3ms/step - loss: nan - accuracy: 0.5982 - val_loss: nan - val_accuracy: 0.5983\n",
      "Epoch 7/50\n",
      "2967/2967 [==============================] - 9s 3ms/step - loss: nan - accuracy: 0.5982 - val_loss: nan - val_accuracy: 0.5983\n",
      "Epoch 8/50\n",
      "2967/2967 [==============================] - 9s 3ms/step - loss: nan - accuracy: 0.5982 - val_loss: nan - val_accuracy: 0.5983\n",
      "Epoch 9/50\n",
      "2967/2967 [==============================] - 9s 3ms/step - loss: nan - accuracy: 0.5982 - val_loss: nan - val_accuracy: 0.5983\n",
      "Epoch 10/50\n",
      "2967/2967 [==============================] - 9s 3ms/step - loss: nan - accuracy: 0.5982 - val_loss: nan - val_accuracy: 0.5983\n",
      "Epoch 11/50\n",
      "2967/2967 [==============================] - 8s 3ms/step - loss: nan - accuracy: 0.5982 - val_loss: nan - val_accuracy: 0.5983\n",
      "Epoch 12/50\n",
      "2967/2967 [==============================] - 8s 3ms/step - loss: nan - accuracy: 0.5982 - val_loss: nan - val_accuracy: 0.5983\n",
      "Epoch 13/50\n",
      "2967/2967 [==============================] - 9s 3ms/step - loss: nan - accuracy: 0.5982 - val_loss: nan - val_accuracy: 0.5983\n",
      "Epoch 14/50\n",
      "2967/2967 [==============================] - 9s 3ms/step - loss: nan - accuracy: 0.5982 - val_loss: nan - val_accuracy: 0.5983\n",
      "Epoch 15/50\n",
      "2967/2967 [==============================] - 9s 3ms/step - loss: nan - accuracy: 0.5982 - val_loss: nan - val_accuracy: 0.5983\n",
      "Epoch 16/50\n",
      "2967/2967 [==============================] - 9s 3ms/step - loss: nan - accuracy: 0.5982 - val_loss: nan - val_accuracy: 0.5983\n",
      "Epoch 17/50\n",
      "2967/2967 [==============================] - 9s 3ms/step - loss: nan - accuracy: 0.5982 - val_loss: nan - val_accuracy: 0.5983\n",
      "Epoch 18/50\n",
      "2967/2967 [==============================] - 9s 3ms/step - loss: nan - accuracy: 0.5982 - val_loss: nan - val_accuracy: 0.5983\n",
      "Epoch 19/50\n",
      "2967/2967 [==============================] - 9s 3ms/step - loss: nan - accuracy: 0.5982 - val_loss: nan - val_accuracy: 0.5983\n",
      "Epoch 20/50\n",
      "2967/2967 [==============================] - 9s 3ms/step - loss: nan - accuracy: 0.5982 - val_loss: nan - val_accuracy: 0.5983\n",
      "Epoch 21/50\n",
      "2967/2967 [==============================] - 9s 3ms/step - loss: nan - accuracy: 0.5982 - val_loss: nan - val_accuracy: 0.5983\n",
      "Epoch 22/50\n",
      "2967/2967 [==============================] - 10s 3ms/step - loss: nan - accuracy: 0.5982 - val_loss: nan - val_accuracy: 0.5983\n",
      "Epoch 23/50\n",
      "2967/2967 [==============================] - 10s 3ms/step - loss: nan - accuracy: 0.5982 - val_loss: nan - val_accuracy: 0.5983\n",
      "Epoch 24/50\n",
      "2967/2967 [==============================] - 9s 3ms/step - loss: nan - accuracy: 0.5982 - val_loss: nan - val_accuracy: 0.5983\n",
      "Epoch 25/50\n",
      "2967/2967 [==============================] - 8s 3ms/step - loss: nan - accuracy: 0.5982 - val_loss: nan - val_accuracy: 0.5983\n",
      "Epoch 26/50\n",
      "2967/2967 [==============================] - 9s 3ms/step - loss: nan - accuracy: 0.5982 - val_loss: nan - val_accuracy: 0.5983\n",
      "Epoch 27/50\n",
      "2967/2967 [==============================] - 8s 3ms/step - loss: nan - accuracy: 0.5982 - val_loss: nan - val_accuracy: 0.5983\n",
      "Epoch 28/50\n",
      "2967/2967 [==============================] - 8s 3ms/step - loss: nan - accuracy: 0.5982 - val_loss: nan - val_accuracy: 0.5983\n",
      "Epoch 29/50\n",
      "2967/2967 [==============================] - 8s 3ms/step - loss: nan - accuracy: 0.5982 - val_loss: nan - val_accuracy: 0.5983\n",
      "Epoch 30/50\n",
      "2967/2967 [==============================] - 8s 3ms/step - loss: nan - accuracy: 0.5982 - val_loss: nan - val_accuracy: 0.5983\n",
      "Epoch 31/50\n",
      "2967/2967 [==============================] - 8s 3ms/step - loss: nan - accuracy: 0.5982 - val_loss: nan - val_accuracy: 0.5983\n",
      "Epoch 32/50\n",
      "2967/2967 [==============================] - 8s 3ms/step - loss: nan - accuracy: 0.5982 - val_loss: nan - val_accuracy: 0.5983\n",
      "Epoch 33/50\n",
      "2967/2967 [==============================] - 8s 3ms/step - loss: nan - accuracy: 0.5982 - val_loss: nan - val_accuracy: 0.5983\n",
      "Epoch 34/50\n",
      "2967/2967 [==============================] - 8s 3ms/step - loss: nan - accuracy: 0.5982 - val_loss: nan - val_accuracy: 0.5983\n",
      "Epoch 35/50\n",
      "2967/2967 [==============================] - 8s 3ms/step - loss: nan - accuracy: 0.5982 - val_loss: nan - val_accuracy: 0.5983\n",
      "Epoch 36/50\n",
      "2967/2967 [==============================] - 8s 3ms/step - loss: nan - accuracy: 0.5982 - val_loss: nan - val_accuracy: 0.5983\n",
      "Epoch 37/50\n",
      "2967/2967 [==============================] - 8s 3ms/step - loss: nan - accuracy: 0.5982 - val_loss: nan - val_accuracy: 0.5983\n",
      "Epoch 38/50\n",
      "2967/2967 [==============================] - 8s 3ms/step - loss: nan - accuracy: 0.5982 - val_loss: nan - val_accuracy: 0.5983\n",
      "Epoch 39/50\n",
      "2967/2967 [==============================] - 8s 3ms/step - loss: nan - accuracy: 0.5982 - val_loss: nan - val_accuracy: 0.5983\n",
      "Epoch 40/50\n",
      "2967/2967 [==============================] - 8s 3ms/step - loss: nan - accuracy: 0.5982 - val_loss: nan - val_accuracy: 0.5983\n",
      "Epoch 41/50\n",
      "2967/2967 [==============================] - 8s 3ms/step - loss: nan - accuracy: 0.5982 - val_loss: nan - val_accuracy: 0.5983\n",
      "Epoch 42/50\n",
      "2967/2967 [==============================] - 9s 3ms/step - loss: nan - accuracy: 0.5982 - val_loss: nan - val_accuracy: 0.5983\n",
      "Epoch 43/50\n",
      "2967/2967 [==============================] - 8s 3ms/step - loss: nan - accuracy: 0.5982 - val_loss: nan - val_accuracy: 0.5983\n",
      "Epoch 44/50\n",
      "2967/2967 [==============================] - 8s 3ms/step - loss: nan - accuracy: 0.5982 - val_loss: nan - val_accuracy: 0.5983\n",
      "Epoch 45/50\n",
      "2967/2967 [==============================] - 8s 3ms/step - loss: nan - accuracy: 0.5982 - val_loss: nan - val_accuracy: 0.5983\n",
      "Epoch 46/50\n",
      "2967/2967 [==============================] - 8s 3ms/step - loss: nan - accuracy: 0.5982 - val_loss: nan - val_accuracy: 0.5983\n",
      "Epoch 47/50\n",
      "2967/2967 [==============================] - 8s 3ms/step - loss: nan - accuracy: 0.5982 - val_loss: nan - val_accuracy: 0.5983\n",
      "Epoch 48/50\n",
      "2967/2967 [==============================] - 8s 3ms/step - loss: nan - accuracy: 0.5982 - val_loss: nan - val_accuracy: 0.5983\n",
      "Epoch 49/50\n",
      "2967/2967 [==============================] - 8s 3ms/step - loss: nan - accuracy: 0.5982 - val_loss: nan - val_accuracy: 0.5983\n",
      "Epoch 50/50\n",
      "2967/2967 [==============================] - 9s 3ms/step - loss: nan - accuracy: 0.5982 - val_loss: nan - val_accuracy: 0.5983\n"
     ]
    },
    {
     "data": {
      "text/plain": [
       "<keras.callbacks.History at 0x22550790ac0>"
      ]
     },
     "execution_count": 38,
     "metadata": {},
     "output_type": "execute_result"
    }
   ],
   "source": [
    "# fit model\n",
    "history1 = History() # will be used for getting loss\n",
    "model1.fit(X_train, y_train,validation_data=(X_test,y_test), epochs=50,\n",
    "          batch_size=20,verbose=1, callbacks=[history1])"
   ]
  },
  {
   "cell_type": "markdown",
   "id": "c987febb",
   "metadata": {},
   "source": [
    "Loss was so big, that Nan value was shown"
   ]
  },
  {
   "cell_type": "code",
   "execution_count": 39,
   "id": "d6d9fe1a",
   "metadata": {
    "scrolled": true
   },
   "outputs": [
    {
     "name": "stdout",
     "output_type": "stream",
     "text": [
      "795/795 [==============================] - 2s 1ms/step\n"
     ]
    }
   ],
   "source": [
    "y_test_class = np.argmax(y_test, axis=1)\n",
    "# argmax get index of the max value in array. This allows me to get back numbers from my encoded target column\n",
    "pred_nn1 = model1.predict(X_test)# predictions of the model\n",
    "pred_nn1_classes = np.argmax(pred_nn1, axis=1) \n",
    "# getting index of the highet propability in the array to get class predicted by the model"
   ]
  },
  {
   "cell_type": "code",
   "execution_count": 40,
   "id": "31737f15",
   "metadata": {
    "scrolled": false
   },
   "outputs": [
    {
     "name": "stdout",
     "output_type": "stream",
     "text": [
      "              precision    recall  f1-score   support\n",
      "\n",
      "           0       0.60      1.00      0.75     15212\n",
      "           1       1.00      0.00      0.00      5310\n",
      "           2       1.00      0.00      0.00      4902\n",
      "\n",
      "    accuracy                           0.60     25424\n",
      "   macro avg       0.87      0.33      0.25     25424\n",
      "weighted avg       0.76      0.60      0.45     25424\n",
      "\n"
     ]
    }
   ],
   "source": [
    "print(classification_report(y_test_class, pred_nn1_classes, zero_division = 1))"
   ]
  },
  {
   "cell_type": "code",
   "execution_count": 41,
   "id": "7f39ce72",
   "metadata": {},
   "outputs": [
    {
     "data": {
      "text/plain": [
       "array([[    0, 25424]], dtype=int64)"
      ]
     },
     "execution_count": 41,
     "metadata": {},
     "output_type": "execute_result"
    }
   ],
   "source": [
    "np.array(np.unique(pred_nn1_classes, return_counts=True)).T"
   ]
  },
  {
   "cell_type": "markdown",
   "id": "dd6753e5",
   "metadata": {},
   "source": [
    "As we can see, neural network classified all samples to the largest group. This problem could be cause either  by dying relu or by the fact that the data is unbalanced and unstandardized. I will verify this in the second approach."
   ]
  },
  {
   "cell_type": "markdown",
   "id": "5d0c0b87",
   "metadata": {},
   "source": [
    "Because loss has only NaN values there is no point in drawing loss curve."
   ]
  },
  {
   "cell_type": "markdown",
   "id": "b57b0b05",
   "metadata": {},
   "source": [
    "### 5.5.2 Keras NN2"
   ]
  },
  {
   "cell_type": "markdown",
   "id": "5139e4b7",
   "metadata": {},
   "source": [
    "This neural network contains tow hidden layers. First one contains 15 neurons and leakyrelu* activation with alpha equal -0.01. Such alpha will make all negative values  positive values. Second layer has 7 neurons and relu activation. Output layer is the same as in the first neural network. For compilation, I use SGD optimizer, for loss categorical cross entropy and accuracy for metrics."
   ]
  },
  {
   "cell_type": "markdown",
   "id": "58a8916a",
   "metadata": {},
   "source": [
    "*Leaky Rectified Linear Unit, or Leaky ReLU, is a type of activation function based on a ReLU, but it has a small slope for negative values instead of a flat slope. The slope coefficient is determined before training, i.e. it is not learnt during training. This type of activation function is popular in tasks where we may suffer from sparse gradients, for example training generative adversarial networks."
   ]
  },
  {
   "cell_type": "code",
   "execution_count": 43,
   "id": "b230012a",
   "metadata": {},
   "outputs": [
    {
     "name": "stdout",
     "output_type": "stream",
     "text": [
      "Model: \"sequential_1\"\n",
      "_________________________________________________________________\n",
      " Layer (type)                Output Shape              Param #   \n",
      "=================================================================\n",
      " dense_2 (Dense)             (None, 15)                165       \n",
      "                                                                 \n",
      " dense_3 (Dense)             (None, 7)                 112       \n",
      "                                                                 \n",
      " dense_4 (Dense)             (None, 3)                 24        \n",
      "                                                                 \n",
      "=================================================================\n",
      "Total params: 301\n",
      "Trainable params: 301\n",
      "Non-trainable params: 0\n",
      "_________________________________________________________________\n"
     ]
    }
   ],
   "source": [
    "# define the model\n",
    "model2 = Sequential()\n",
    "model2.add(Dense(15, input_shape=(10,), activation=LeakyReLU(alpha=-0.01)))\n",
    "model2.add(Dense(7, activation = 'relu'))\n",
    "model2.add(Dense(3, activation='softmax'))\n",
    "model2.compile(loss='categorical_crossentropy', optimizer=SGD(learning_rate=0.01), metrics=['accuracy'])\n",
    "model2.summary()"
   ]
  },
  {
   "cell_type": "code",
   "execution_count": 44,
   "id": "b1d029a7",
   "metadata": {
    "scrolled": false
   },
   "outputs": [
    {
     "name": "stdout",
     "output_type": "stream",
     "text": [
      "Epoch 1/50\n",
      "2967/2967 [==============================] - 9s 3ms/step - loss: nan - accuracy: 0.5980 - val_loss: nan - val_accuracy: 0.5983\n",
      "Epoch 2/50\n",
      "2967/2967 [==============================] - 8s 3ms/step - loss: nan - accuracy: 0.5982 - val_loss: nan - val_accuracy: 0.5983\n",
      "Epoch 3/50\n",
      "2967/2967 [==============================] - 8s 3ms/step - loss: nan - accuracy: 0.5982 - val_loss: nan - val_accuracy: 0.5983\n",
      "Epoch 4/50\n",
      "2967/2967 [==============================] - 8s 3ms/step - loss: nan - accuracy: 0.5982 - val_loss: nan - val_accuracy: 0.5983\n",
      "Epoch 5/50\n",
      "2967/2967 [==============================] - 8s 3ms/step - loss: nan - accuracy: 0.5982 - val_loss: nan - val_accuracy: 0.5983\n",
      "Epoch 6/50\n",
      "2967/2967 [==============================] - 7s 2ms/step - loss: nan - accuracy: 0.5982 - val_loss: nan - val_accuracy: 0.5983\n",
      "Epoch 7/50\n",
      "2967/2967 [==============================] - 7s 2ms/step - loss: nan - accuracy: 0.5982 - val_loss: nan - val_accuracy: 0.5983\n",
      "Epoch 8/50\n",
      "2967/2967 [==============================] - 8s 3ms/step - loss: nan - accuracy: 0.5982 - val_loss: nan - val_accuracy: 0.5983\n",
      "Epoch 9/50\n",
      "2967/2967 [==============================] - 8s 3ms/step - loss: nan - accuracy: 0.5982 - val_loss: nan - val_accuracy: 0.5983\n",
      "Epoch 10/50\n",
      "2967/2967 [==============================] - 8s 3ms/step - loss: nan - accuracy: 0.5982 - val_loss: nan - val_accuracy: 0.5983\n",
      "Epoch 11/50\n",
      "2967/2967 [==============================] - 7s 2ms/step - loss: nan - accuracy: 0.5982 - val_loss: nan - val_accuracy: 0.5983\n",
      "Epoch 12/50\n",
      "2967/2967 [==============================] - 8s 3ms/step - loss: nan - accuracy: 0.5982 - val_loss: nan - val_accuracy: 0.5983\n",
      "Epoch 13/50\n",
      "2967/2967 [==============================] - 8s 3ms/step - loss: nan - accuracy: 0.5982 - val_loss: nan - val_accuracy: 0.5983\n",
      "Epoch 14/50\n",
      "2967/2967 [==============================] - 7s 3ms/step - loss: nan - accuracy: 0.5982 - val_loss: nan - val_accuracy: 0.5983\n",
      "Epoch 15/50\n",
      "2967/2967 [==============================] - 8s 3ms/step - loss: nan - accuracy: 0.5982 - val_loss: nan - val_accuracy: 0.5983\n",
      "Epoch 16/50\n",
      "2967/2967 [==============================] - 8s 3ms/step - loss: nan - accuracy: 0.5982 - val_loss: nan - val_accuracy: 0.5983\n",
      "Epoch 17/50\n",
      "2967/2967 [==============================] - 8s 3ms/step - loss: nan - accuracy: 0.5982 - val_loss: nan - val_accuracy: 0.5983\n",
      "Epoch 18/50\n",
      "2967/2967 [==============================] - 9s 3ms/step - loss: nan - accuracy: 0.5982 - val_loss: nan - val_accuracy: 0.5983\n",
      "Epoch 19/50\n",
      "2967/2967 [==============================] - 8s 3ms/step - loss: nan - accuracy: 0.5982 - val_loss: nan - val_accuracy: 0.5983\n",
      "Epoch 20/50\n",
      "2967/2967 [==============================] - 8s 3ms/step - loss: nan - accuracy: 0.5982 - val_loss: nan - val_accuracy: 0.5983\n",
      "Epoch 21/50\n",
      "2967/2967 [==============================] - 8s 3ms/step - loss: nan - accuracy: 0.5982 - val_loss: nan - val_accuracy: 0.5983\n",
      "Epoch 22/50\n",
      "2967/2967 [==============================] - 7s 2ms/step - loss: nan - accuracy: 0.5982 - val_loss: nan - val_accuracy: 0.5983\n",
      "Epoch 23/50\n",
      "2967/2967 [==============================] - 8s 3ms/step - loss: nan - accuracy: 0.5982 - val_loss: nan - val_accuracy: 0.5983\n",
      "Epoch 24/50\n",
      "2967/2967 [==============================] - 8s 3ms/step - loss: nan - accuracy: 0.5982 - val_loss: nan - val_accuracy: 0.5983\n",
      "Epoch 25/50\n",
      "2967/2967 [==============================] - 8s 3ms/step - loss: nan - accuracy: 0.5982 - val_loss: nan - val_accuracy: 0.5983\n",
      "Epoch 26/50\n",
      "2967/2967 [==============================] - 8s 3ms/step - loss: nan - accuracy: 0.5982 - val_loss: nan - val_accuracy: 0.5983\n",
      "Epoch 27/50\n",
      "2967/2967 [==============================] - 8s 3ms/step - loss: nan - accuracy: 0.5982 - val_loss: nan - val_accuracy: 0.5983\n",
      "Epoch 28/50\n",
      "2967/2967 [==============================] - 8s 3ms/step - loss: nan - accuracy: 0.5982 - val_loss: nan - val_accuracy: 0.5983\n",
      "Epoch 29/50\n",
      "2967/2967 [==============================] - 9s 3ms/step - loss: nan - accuracy: 0.5982 - val_loss: nan - val_accuracy: 0.5983\n",
      "Epoch 30/50\n",
      "2967/2967 [==============================] - 8s 3ms/step - loss: nan - accuracy: 0.5982 - val_loss: nan - val_accuracy: 0.5983\n",
      "Epoch 31/50\n",
      "2967/2967 [==============================] - 8s 3ms/step - loss: nan - accuracy: 0.5982 - val_loss: nan - val_accuracy: 0.5983\n",
      "Epoch 32/50\n",
      "2967/2967 [==============================] - 8s 3ms/step - loss: nan - accuracy: 0.5982 - val_loss: nan - val_accuracy: 0.5983\n",
      "Epoch 33/50\n",
      "2967/2967 [==============================] - 8s 3ms/step - loss: nan - accuracy: 0.5982 - val_loss: nan - val_accuracy: 0.5983\n",
      "Epoch 34/50\n",
      "2967/2967 [==============================] - 8s 3ms/step - loss: nan - accuracy: 0.5982 - val_loss: nan - val_accuracy: 0.5983\n",
      "Epoch 35/50\n",
      "2967/2967 [==============================] - 8s 3ms/step - loss: nan - accuracy: 0.5982 - val_loss: nan - val_accuracy: 0.5983\n",
      "Epoch 36/50\n",
      "2967/2967 [==============================] - 8s 3ms/step - loss: nan - accuracy: 0.5982 - val_loss: nan - val_accuracy: 0.5983\n",
      "Epoch 37/50\n",
      "2967/2967 [==============================] - 8s 3ms/step - loss: nan - accuracy: 0.5982 - val_loss: nan - val_accuracy: 0.5983\n",
      "Epoch 38/50\n",
      "2967/2967 [==============================] - 8s 3ms/step - loss: nan - accuracy: 0.5982 - val_loss: nan - val_accuracy: 0.5983\n",
      "Epoch 39/50\n",
      "2967/2967 [==============================] - 8s 3ms/step - loss: nan - accuracy: 0.5982 - val_loss: nan - val_accuracy: 0.5983\n",
      "Epoch 40/50\n",
      "2967/2967 [==============================] - 8s 3ms/step - loss: nan - accuracy: 0.5982 - val_loss: nan - val_accuracy: 0.5983\n",
      "Epoch 41/50\n",
      "2967/2967 [==============================] - 8s 3ms/step - loss: nan - accuracy: 0.5982 - val_loss: nan - val_accuracy: 0.5983\n",
      "Epoch 42/50\n",
      "2967/2967 [==============================] - 8s 3ms/step - loss: nan - accuracy: 0.5982 - val_loss: nan - val_accuracy: 0.5983\n",
      "Epoch 43/50\n",
      "2967/2967 [==============================] - 8s 3ms/step - loss: nan - accuracy: 0.5982 - val_loss: nan - val_accuracy: 0.5983\n",
      "Epoch 44/50\n",
      "2967/2967 [==============================] - 8s 3ms/step - loss: nan - accuracy: 0.5982 - val_loss: nan - val_accuracy: 0.5983\n",
      "Epoch 45/50\n",
      "2967/2967 [==============================] - 7s 3ms/step - loss: nan - accuracy: 0.5982 - val_loss: nan - val_accuracy: 0.5983\n",
      "Epoch 46/50\n",
      "2967/2967 [==============================] - 7s 3ms/step - loss: nan - accuracy: 0.5982 - val_loss: nan - val_accuracy: 0.5983\n",
      "Epoch 47/50\n",
      "2967/2967 [==============================] - 7s 2ms/step - loss: nan - accuracy: 0.5982 - val_loss: nan - val_accuracy: 0.5983\n",
      "Epoch 48/50\n",
      "2967/2967 [==============================] - 8s 3ms/step - loss: nan - accuracy: 0.5982 - val_loss: nan - val_accuracy: 0.5983\n",
      "Epoch 49/50\n",
      "2967/2967 [==============================] - 8s 3ms/step - loss: nan - accuracy: 0.5982 - val_loss: nan - val_accuracy: 0.5983\n",
      "Epoch 50/50\n",
      "2967/2967 [==============================] - 8s 3ms/step - loss: nan - accuracy: 0.5982 - val_loss: nan - val_accuracy: 0.5983\n"
     ]
    },
    {
     "data": {
      "text/plain": [
       "<keras.callbacks.History at 0x22553581ff0>"
      ]
     },
     "execution_count": 44,
     "metadata": {},
     "output_type": "execute_result"
    }
   ],
   "source": [
    "# fit model\n",
    "history2 = History() # will be used for getting loss\n",
    "model2.fit(X_train, y_train,validation_data=(X_test,y_test), epochs=50,\n",
    "          batch_size=20,verbose=1, callbacks=[history2])"
   ]
  },
  {
   "cell_type": "code",
   "execution_count": 45,
   "id": "a1a78a87",
   "metadata": {},
   "outputs": [
    {
     "name": "stdout",
     "output_type": "stream",
     "text": [
      "795/795 [==============================] - 2s 2ms/step\n"
     ]
    }
   ],
   "source": [
    "y_test_class = np.argmax(y_test, axis=1)\n",
    "pred_nn2 = model2.predict(X_test)\n",
    "pred_nn2_classes = np.argmax(pred_nn2, axis=1)"
   ]
  },
  {
   "cell_type": "code",
   "execution_count": 46,
   "id": "98752d6d",
   "metadata": {
    "scrolled": false
   },
   "outputs": [
    {
     "name": "stdout",
     "output_type": "stream",
     "text": [
      "              precision    recall  f1-score   support\n",
      "\n",
      "           0       0.60      1.00      0.75     15212\n",
      "           1       1.00      0.00      0.00      5310\n",
      "           2       1.00      0.00      0.00      4902\n",
      "\n",
      "    accuracy                           0.60     25424\n",
      "   macro avg       0.87      0.33      0.25     25424\n",
      "weighted avg       0.76      0.60      0.45     25424\n",
      "\n"
     ]
    }
   ],
   "source": [
    "print(classification_report(y_test_class, pred_nn2_classes, zero_division=1))"
   ]
  },
  {
   "cell_type": "code",
   "execution_count": 47,
   "id": "2f093e0a",
   "metadata": {
    "scrolled": true
   },
   "outputs": [
    {
     "data": {
      "text/plain": [
       "array([[    0, 25424]], dtype=int64)"
      ]
     },
     "execution_count": 47,
     "metadata": {},
     "output_type": "execute_result"
    }
   ],
   "source": [
    "np.array(np.unique(pred_nn2_classes, return_counts=True)).T"
   ]
  },
  {
   "cell_type": "markdown",
   "id": "a6d3063b",
   "metadata": {},
   "source": [
    "Here is the same problem as in the previous neural network."
   ]
  },
  {
   "cell_type": "markdown",
   "id": "ff1b56fe",
   "metadata": {},
   "source": [
    "Because here loss has also only NaN values, I won't draw the loss curve."
   ]
  },
  {
   "cell_type": "markdown",
   "id": "12f8c40c",
   "metadata": {},
   "source": [
    "### 5.5.3 Keras NN3"
   ]
  },
  {
   "cell_type": "markdown",
   "id": "014d419e",
   "metadata": {},
   "source": [
    "Thid neural network has the same structure as the first neural network, but here I decided to use Adam as optimizer."
   ]
  },
  {
   "cell_type": "code",
   "execution_count": 49,
   "id": "1a176d83",
   "metadata": {},
   "outputs": [
    {
     "name": "stdout",
     "output_type": "stream",
     "text": [
      "Model: \"sequential_2\"\n",
      "_________________________________________________________________\n",
      " Layer (type)                Output Shape              Param #   \n",
      "=================================================================\n",
      " dense_5 (Dense)             (None, 15)                165       \n",
      "                                                                 \n",
      " dropout_1 (Dropout)         (None, 15)                0         \n",
      "                                                                 \n",
      " dense_6 (Dense)             (None, 3)                 48        \n",
      "                                                                 \n",
      "=================================================================\n",
      "Total params: 213\n",
      "Trainable params: 213\n",
      "Non-trainable params: 0\n",
      "_________________________________________________________________\n"
     ]
    }
   ],
   "source": [
    "# define the model\n",
    "model3= Sequential()\n",
    "model3.add(Dense(15, input_shape=(10,), activation='relu'))\n",
    "model3.add(Dropout(0.2))\n",
    "model3.add(Dense(3, activation='softmax'))\n",
    "model3.compile(loss='categorical_crossentropy', optimizer=Adam(learning_rate=0.01),metrics=['accuracy'])\n",
    "model3.summary()"
   ]
  },
  {
   "cell_type": "code",
   "execution_count": 50,
   "id": "adef28c7",
   "metadata": {
    "scrolled": false
   },
   "outputs": [
    {
     "name": "stdout",
     "output_type": "stream",
     "text": [
      "Epoch 1/50\n",
      "2967/2967 [==============================] - 9s 3ms/step - loss: 6404501149843456.0000 - accuracy: 0.5244 - val_loss: 0.9526 - val_accuracy: 0.5983\n",
      "Epoch 2/50\n",
      "2967/2967 [==============================] - 9s 3ms/step - loss: 0.9522 - accuracy: 0.5982 - val_loss: 0.9522 - val_accuracy: 0.5983\n",
      "Epoch 3/50\n",
      "2967/2967 [==============================] - 10s 3ms/step - loss: 0.9523 - accuracy: 0.5982 - val_loss: 0.9523 - val_accuracy: 0.5983\n",
      "Epoch 4/50\n",
      "2967/2967 [==============================] - 8s 3ms/step - loss: 0.9524 - accuracy: 0.5982 - val_loss: 0.9534 - val_accuracy: 0.5983\n",
      "Epoch 5/50\n",
      "2967/2967 [==============================] - 8s 3ms/step - loss: 0.9523 - accuracy: 0.5982 - val_loss: 0.9521 - val_accuracy: 0.5983\n",
      "Epoch 6/50\n",
      "2967/2967 [==============================] - 8s 3ms/step - loss: 0.9524 - accuracy: 0.5982 - val_loss: 0.9531 - val_accuracy: 0.5983\n",
      "Epoch 7/50\n",
      "2967/2967 [==============================] - 8s 3ms/step - loss: 0.9525 - accuracy: 0.5982 - val_loss: 0.9519 - val_accuracy: 0.5983\n",
      "Epoch 8/50\n",
      "2967/2967 [==============================] - 8s 3ms/step - loss: 0.9523 - accuracy: 0.5982 - val_loss: 0.9524 - val_accuracy: 0.5983\n",
      "Epoch 9/50\n",
      "2967/2967 [==============================] - 8s 3ms/step - loss: 0.9524 - accuracy: 0.5982 - val_loss: 0.9522 - val_accuracy: 0.5983\n",
      "Epoch 10/50\n",
      "2967/2967 [==============================] - 8s 3ms/step - loss: 0.9524 - accuracy: 0.5982 - val_loss: 0.9533 - val_accuracy: 0.5983\n",
      "Epoch 11/50\n",
      "2967/2967 [==============================] - 8s 3ms/step - loss: 0.9524 - accuracy: 0.5982 - val_loss: 0.9518 - val_accuracy: 0.5983\n",
      "Epoch 12/50\n",
      "2967/2967 [==============================] - 9s 3ms/step - loss: 0.9524 - accuracy: 0.5982 - val_loss: 0.9535 - val_accuracy: 0.5983\n",
      "Epoch 13/50\n",
      "2967/2967 [==============================] - 9s 3ms/step - loss: 0.9523 - accuracy: 0.5982 - val_loss: 0.9519 - val_accuracy: 0.5983\n",
      "Epoch 14/50\n",
      "2967/2967 [==============================] - 8s 3ms/step - loss: 0.9524 - accuracy: 0.5982 - val_loss: 0.9521 - val_accuracy: 0.5983\n",
      "Epoch 15/50\n",
      "2967/2967 [==============================] - 9s 3ms/step - loss: 0.9524 - accuracy: 0.5982 - val_loss: 0.9519 - val_accuracy: 0.5983\n",
      "Epoch 16/50\n",
      "2967/2967 [==============================] - 8s 3ms/step - loss: 0.9523 - accuracy: 0.5982 - val_loss: 0.9519 - val_accuracy: 0.5983\n",
      "Epoch 17/50\n",
      "2967/2967 [==============================] - 8s 3ms/step - loss: 0.9524 - accuracy: 0.5982 - val_loss: 0.9527 - val_accuracy: 0.5983\n",
      "Epoch 18/50\n",
      "2967/2967 [==============================] - 8s 3ms/step - loss: 0.9524 - accuracy: 0.5982 - val_loss: 0.9520 - val_accuracy: 0.5983\n",
      "Epoch 19/50\n",
      "2967/2967 [==============================] - 8s 3ms/step - loss: 0.9524 - accuracy: 0.5982 - val_loss: 0.9521 - val_accuracy: 0.5983\n",
      "Epoch 20/50\n",
      "2967/2967 [==============================] - 8s 3ms/step - loss: 0.9524 - accuracy: 0.5982 - val_loss: 0.9534 - val_accuracy: 0.5983\n",
      "Epoch 21/50\n",
      "2967/2967 [==============================] - 9s 3ms/step - loss: 0.9525 - accuracy: 0.5982 - val_loss: 0.9530 - val_accuracy: 0.5983\n",
      "Epoch 22/50\n",
      "2967/2967 [==============================] - 8s 3ms/step - loss: 0.9523 - accuracy: 0.5982 - val_loss: 0.9519 - val_accuracy: 0.5983\n",
      "Epoch 23/50\n",
      "2967/2967 [==============================] - 8s 3ms/step - loss: 0.9524 - accuracy: 0.5982 - val_loss: 0.9537 - val_accuracy: 0.5983\n",
      "Epoch 24/50\n",
      "2967/2967 [==============================] - 8s 3ms/step - loss: 0.9523 - accuracy: 0.5982 - val_loss: 0.9537 - val_accuracy: 0.5983\n",
      "Epoch 25/50\n",
      "2967/2967 [==============================] - 11s 4ms/step - loss: 0.9522 - accuracy: 0.5982 - val_loss: 0.9527 - val_accuracy: 0.5983\n",
      "Epoch 26/50\n",
      "2967/2967 [==============================] - 8s 3ms/step - loss: 0.9523 - accuracy: 0.5982 - val_loss: 0.9532 - val_accuracy: 0.5983\n",
      "Epoch 27/50\n",
      "2967/2967 [==============================] - 8s 3ms/step - loss: 0.9524 - accuracy: 0.5982 - val_loss: 0.9519 - val_accuracy: 0.5983\n",
      "Epoch 28/50\n",
      "2967/2967 [==============================] - 7s 3ms/step - loss: 0.9523 - accuracy: 0.5982 - val_loss: 0.9529 - val_accuracy: 0.5983\n",
      "Epoch 29/50\n",
      "2967/2967 [==============================] - 8s 3ms/step - loss: 0.9524 - accuracy: 0.5982 - val_loss: 0.9519 - val_accuracy: 0.5983\n",
      "Epoch 30/50\n",
      "2967/2967 [==============================] - 7s 2ms/step - loss: 0.9524 - accuracy: 0.5982 - val_loss: 0.9519 - val_accuracy: 0.5983\n",
      "Epoch 31/50\n",
      "2967/2967 [==============================] - 8s 3ms/step - loss: 0.9522 - accuracy: 0.5982 - val_loss: 0.9534 - val_accuracy: 0.5983\n",
      "Epoch 32/50\n",
      "2967/2967 [==============================] - 8s 3ms/step - loss: 0.9523 - accuracy: 0.5982 - val_loss: 0.9524 - val_accuracy: 0.5983\n",
      "Epoch 33/50\n",
      "2967/2967 [==============================] - 8s 3ms/step - loss: 0.9525 - accuracy: 0.5982 - val_loss: 0.9521 - val_accuracy: 0.5983\n",
      "Epoch 34/50\n",
      "2967/2967 [==============================] - 7s 3ms/step - loss: 0.9524 - accuracy: 0.5982 - val_loss: 0.9518 - val_accuracy: 0.5983\n",
      "Epoch 35/50\n",
      "2967/2967 [==============================] - 7s 2ms/step - loss: 0.9523 - accuracy: 0.5982 - val_loss: 0.9525 - val_accuracy: 0.5983\n",
      "Epoch 36/50\n",
      "2967/2967 [==============================] - 7s 2ms/step - loss: 0.9524 - accuracy: 0.5982 - val_loss: 0.9521 - val_accuracy: 0.5983\n",
      "Epoch 37/50\n",
      "2967/2967 [==============================] - 7s 2ms/step - loss: 0.9525 - accuracy: 0.5982 - val_loss: 0.9524 - val_accuracy: 0.5983\n",
      "Epoch 38/50\n",
      "2967/2967 [==============================] - 7s 2ms/step - loss: 0.9523 - accuracy: 0.5982 - val_loss: 0.9530 - val_accuracy: 0.5983\n",
      "Epoch 39/50\n",
      "2967/2967 [==============================] - 7s 2ms/step - loss: 0.9524 - accuracy: 0.5982 - val_loss: 0.9520 - val_accuracy: 0.5983\n",
      "Epoch 40/50\n",
      "2967/2967 [==============================] - 7s 2ms/step - loss: 0.9524 - accuracy: 0.5982 - val_loss: 0.9518 - val_accuracy: 0.5983\n",
      "Epoch 41/50\n",
      "2967/2967 [==============================] - 7s 3ms/step - loss: 0.9525 - accuracy: 0.5982 - val_loss: 0.9545 - val_accuracy: 0.5983\n",
      "Epoch 42/50\n",
      "2967/2967 [==============================] - 8s 3ms/step - loss: 0.9525 - accuracy: 0.5982 - val_loss: 0.9519 - val_accuracy: 0.5983\n",
      "Epoch 43/50\n",
      "2967/2967 [==============================] - 9s 3ms/step - loss: 0.9523 - accuracy: 0.5982 - val_loss: 0.9528 - val_accuracy: 0.5983\n",
      "Epoch 44/50\n",
      "2967/2967 [==============================] - 9s 3ms/step - loss: 0.9524 - accuracy: 0.5982 - val_loss: 0.9522 - val_accuracy: 0.5983\n",
      "Epoch 45/50\n",
      "2967/2967 [==============================] - 8s 3ms/step - loss: 0.9525 - accuracy: 0.5982 - val_loss: 0.9518 - val_accuracy: 0.5983\n",
      "Epoch 46/50\n",
      "2967/2967 [==============================] - 8s 3ms/step - loss: 0.9524 - accuracy: 0.5982 - val_loss: 0.9525 - val_accuracy: 0.5983\n",
      "Epoch 47/50\n",
      "2967/2967 [==============================] - 9s 3ms/step - loss: 0.9523 - accuracy: 0.5982 - val_loss: 0.9530 - val_accuracy: 0.5983\n",
      "Epoch 48/50\n",
      "2967/2967 [==============================] - 10s 3ms/step - loss: 0.9524 - accuracy: 0.5982 - val_loss: 0.9529 - val_accuracy: 0.5983\n",
      "Epoch 49/50\n",
      "2967/2967 [==============================] - 8s 3ms/step - loss: 0.9524 - accuracy: 0.5982 - val_loss: 0.9532 - val_accuracy: 0.5983\n",
      "Epoch 50/50\n",
      "2967/2967 [==============================] - 8s 3ms/step - loss: 0.9524 - accuracy: 0.5982 - val_loss: 0.9519 - val_accuracy: 0.5983\n"
     ]
    },
    {
     "data": {
      "text/plain": [
       "<keras.callbacks.History at 0x22554367f70>"
      ]
     },
     "execution_count": 50,
     "metadata": {},
     "output_type": "execute_result"
    }
   ],
   "source": [
    "# fit model\n",
    "history3 = History() # will be used for getting loss\n",
    "model3.fit(X_train, y_train,validation_data=(X_test,y_test), epochs=50,\n",
    "          batch_size=20,verbose=1, callbacks=[history3])"
   ]
  },
  {
   "cell_type": "code",
   "execution_count": 51,
   "id": "fdfe1aaf",
   "metadata": {},
   "outputs": [
    {
     "name": "stdout",
     "output_type": "stream",
     "text": [
      "795/795 [==============================] - 1s 2ms/step\n"
     ]
    }
   ],
   "source": [
    "y_test_class = np.argmax(y_test, axis=1)\n",
    "pred_nn3 = model3.predict(X_test)\n",
    "pred_nn3_classes = np.argmax(pred_nn3, axis=1)"
   ]
  },
  {
   "cell_type": "code",
   "execution_count": 52,
   "id": "6dae1c4e",
   "metadata": {
    "scrolled": false
   },
   "outputs": [
    {
     "name": "stdout",
     "output_type": "stream",
     "text": [
      "              precision    recall  f1-score   support\n",
      "\n",
      "           0       0.60      1.00      0.75     15212\n",
      "           1       1.00      0.00      0.00      5310\n",
      "           2       1.00      0.00      0.00      4902\n",
      "\n",
      "    accuracy                           0.60     25424\n",
      "   macro avg       0.87      0.33      0.25     25424\n",
      "weighted avg       0.76      0.60      0.45     25424\n",
      "\n"
     ]
    }
   ],
   "source": [
    "print(classification_report(y_test_class, pred_nn3_classes, zero_division=1))"
   ]
  },
  {
   "cell_type": "code",
   "execution_count": 53,
   "id": "1bf6a82b",
   "metadata": {},
   "outputs": [
    {
     "data": {
      "text/plain": [
       "array([[    0, 25424]], dtype=int64)"
      ]
     },
     "execution_count": 53,
     "metadata": {},
     "output_type": "execute_result"
    }
   ],
   "source": [
    "np.array(np.unique(pred_nn3_classes, return_counts=True)).T"
   ]
  },
  {
   "cell_type": "markdown",
   "id": "dfcbd35b",
   "metadata": {},
   "source": [
    "Here there is the same problem as in the previous neural networks."
   ]
  },
  {
   "cell_type": "code",
   "execution_count": 54,
   "id": "40d493c8",
   "metadata": {
    "scrolled": false
   },
   "outputs": [
    {
     "data": {
      "text/plain": [
       "<matplotlib.legend.Legend at 0x2255349a050>"
      ]
     },
     "execution_count": 54,
     "metadata": {},
     "output_type": "execute_result"
    },
    {
     "data": {
      "image/png": "[encoded data removed]",
      "text/plain": [
       "<Figure size 640x480 with 1 Axes>"
      ]
     },
     "metadata": {},
     "output_type": "display_data"
    }
   ],
   "source": [
    "fig,ax = plt.subplots()\n",
    "ax.plot(history3.history['loss'])\n",
    "ax.plot(history3.history['val_loss'])\n",
    "ax.set_ylim(0, 1.4)\n",
    "ax.set_title('Model3 loss ')\n",
    "ax.set_ylabel('Loss')\n",
    "ax.set_xlabel('Epoch')\n",
    "ax.legend(['Train', 'Test'], loc='upper left')"
   ]
  },
  {
   "cell_type": "markdown",
   "id": "3a4f2c62",
   "metadata": {},
   "source": [
    "The loss curve shows that the model couldn't learn anything better, which shows that unbalanced and not standardized data is problematic for neural network."
   ]
  },
  {
   "cell_type": "markdown",
   "id": "98f210f3",
   "metadata": {},
   "source": [
    "# 6  Summary"
   ]
  },
  {
   "cell_type": "markdown",
   "id": "7dd0fc55",
   "metadata": {},
   "source": [
    "Only decisions tree worked fine for unstandardized and unbalanced data.Now I will check the same models, but first I will use SMOTE function for oversampling unbalanced data and then standardize data."
   ]
  },
  {
   "cell_type": "markdown",
   "id": "b7003d52",
   "metadata": {},
   "source": [
    "# 7 Second approach preprocessing"
   ]
  },
  {
   "cell_type": "markdown",
   "id": "84c5c25a",
   "metadata": {},
   "source": [
    "## 7.1 Balancing data"
   ]
  },
  {
   "cell_type": "code",
   "execution_count": 55,
   "id": "14d94493",
   "metadata": {},
   "outputs": [
    {
     "name": "stdout",
     "output_type": "stream",
     "text": [
      "Original dataset shape Counter({0: 50696, 1: 17891, 2: 16159})\n",
      "Resampled dataset shape Counter({0: 50696, 2: 50696, 1: 50696})\n"
     ]
    }
   ],
   "source": [
    "print('Original dataset shape %s' % Counter(data['class']))\n",
    "sm = SMOTE(random_state = 275)\n",
    "X, y = sm.fit_resample(X, data['class'])\n",
    "print('Resampled dataset shape %s' % Counter(y))\n",
    "# Smote upsamples data for smaller calsses up to the count of the bigget class"
   ]
  },
  {
   "cell_type": "code",
   "execution_count": 56,
   "id": "659dc189",
   "metadata": {},
   "outputs": [
    {
     "data": {
      "image/png": "[encoded data removed]",
      "text/plain": [
       "<Figure size 640x480 with 1 Axes>"
      ]
     },
     "metadata": {},
     "output_type": "display_data"
    }
   ],
   "source": [
    "labels = Counter(y).keys()\n",
    "values = Counter(y).values()\n",
    "plt.bar(labels, values)\n",
    "plt.title(\"Class \",fontsize=10)\n",
    "plt.show()"
   ]
  },
  {
   "cell_type": "markdown",
   "id": "8fe1b874",
   "metadata": {},
   "source": [
    "All classes are balanced. This should make models more accurate."
   ]
  },
  {
   "cell_type": "markdown",
   "id": "f1317fd7",
   "metadata": {},
   "source": [
    "## 7.2 Standarization"
   ]
  },
  {
   "cell_type": "code",
   "execution_count": 57,
   "id": "3752382b",
   "metadata": {},
   "outputs": [],
   "source": [
    "from sklearn.preprocessing import StandardScaler\n",
    "scaler = StandardScaler()\n",
    "X = pd.DataFrame(scaler.fit_transform(X), columns = X.columns)"
   ]
  },
  {
   "cell_type": "code",
   "execution_count": 58,
   "id": "9f96403c",
   "metadata": {},
   "outputs": [],
   "source": [
    "X_train, X_test, y_train, y_test = train_test_split(X, y, test_size = 0.3, random_state = 275)"
   ]
  },
  {
   "cell_type": "markdown",
   "id": "e696380a",
   "metadata": {},
   "source": [
    "# 8 fitting models - second approach"
   ]
  },
  {
   "cell_type": "markdown",
   "id": "6b21494e",
   "metadata": {},
   "source": [
    "## 8.1 Decision Tree, max_depth 5"
   ]
  },
  {
   "cell_type": "code",
   "execution_count": 59,
   "id": "f294c18a",
   "metadata": {},
   "outputs": [
    {
     "data": {
      "text/plain": [
       "{'criterion': 'entropy', 'max_features': 'log2', 'splitter': 'best'}"
      ]
     },
     "execution_count": 59,
     "metadata": {},
     "output_type": "execute_result"
    }
   ],
   "source": [
    "dt_cut_balanced = DecisionTreeClassifier(max_depth = 5)\n",
    "params = [{\n",
    "    'criterion' : ['gini','entropy','log_loss'],\n",
    "    'splitter' : ['best', 'random'],\n",
    "    'max_features' : ['sqrt', 'log2']\n",
    "}]\n",
    "grid = GridSearchCV(dt_cut_balanced, param_grid = params, scoring='accuracy', cv = 5)\n",
    "grid.fit(X_train, y_train)\n",
    "grid.best_params_"
   ]
  },
  {
   "cell_type": "code",
   "execution_count": 60,
   "id": "e3b24946",
   "metadata": {
    "scrolled": true
   },
   "outputs": [
    {
     "name": "stdout",
     "output_type": "stream",
     "text": [
      "Score on train set : 0.9578437174176458\n",
      "Cross validation score: 0.90 accuracy with a standard deviation of 0.07\n",
      "Score on test set : 0.956758059920661\n"
     ]
    }
   ],
   "source": [
    "dt_cut_balanced = DecisionTreeClassifier(max_depth = 5,criterion = 'gini', max_features= 'log2', splitter= 'best' )\n",
    "dt_cut_balanced.fit(X_train, y_train)\n",
    "print('Score on train set : ' + str(dt_cut_balanced.score(X_train, y_train)))\n",
    "scores_dt_cut_balanced = cross_val_score(dt_cut_balanced, X_train, y_train, cv=5)\n",
    "print('Cross validation score: %0.2f accuracy with a standard deviation of %0.2f' % (scores_dt_cut_balanced.mean(), scores_dt_cut_balanced.std()))\n",
    "pred_dt_cut_balanced = dt_cut_balanced.predict(X_test)\n",
    "print('Score on test set : ' + str(dt_cut_balanced.score(X_test, y_test)))"
   ]
  },
  {
   "cell_type": "markdown",
   "id": "b78695bb",
   "metadata": {},
   "source": [
    "Cross validation score shows that this division of training and test set has a little bit higher result than average score for training and test sets divisions."
   ]
  },
  {
   "cell_type": "code",
   "execution_count": 61,
   "id": "aecb02c1",
   "metadata": {},
   "outputs": [
    {
     "name": "stdout",
     "output_type": "stream",
     "text": [
      "              precision    recall  f1-score   support\n",
      "\n",
      "           0       0.93      0.94      0.94     15194\n",
      "           1       0.97      1.00      0.98     15273\n",
      "           2       0.98      0.93      0.95     15160\n",
      "\n",
      "    accuracy                           0.96     45627\n",
      "   macro avg       0.96      0.96      0.96     45627\n",
      "weighted avg       0.96      0.96      0.96     45627\n",
      "\n"
     ]
    }
   ],
   "source": [
    "print(classification_report(y_test, pred_dt_cut_balanced))"
   ]
  },
  {
   "cell_type": "markdown",
   "id": "430f8a1f",
   "metadata": {},
   "source": [
    "Now model works quite similar for all classes, which result in higher accuracy."
   ]
  },
  {
   "cell_type": "markdown",
   "id": "113d47ef",
   "metadata": {},
   "source": [
    "## 8.2 Decision Tree without max depth"
   ]
  },
  {
   "cell_type": "code",
   "execution_count": 62,
   "id": "14705919",
   "metadata": {},
   "outputs": [
    {
     "data": {
      "text/plain": [
       "{'criterion': 'log_loss', 'max_features': 'sqrt', 'splitter': 'best'}"
      ]
     },
     "execution_count": 62,
     "metadata": {},
     "output_type": "execute_result"
    }
   ],
   "source": [
    "dt_balanced = DecisionTreeClassifier()\n",
    "params = [{\n",
    "    'criterion' : ['gini','entropy','log_loss'],\n",
    "    'splitter' : ['best', 'random'],\n",
    "    'max_features' : ['sqrt', 'log2']\n",
    "}]\n",
    "grid = GridSearchCV(dt_balanced, param_grid = params, scoring='accuracy', cv = 5)\n",
    "grid.fit(X_train, y_train)\n",
    "grid.best_params_"
   ]
  },
  {
   "cell_type": "code",
   "execution_count": 63,
   "id": "11ce35bc",
   "metadata": {
    "scrolled": true
   },
   "outputs": [
    {
     "name": "stdout",
     "output_type": "stream",
     "text": [
      "Score on train set : 1.0\n",
      "Cross validation score: 0.97 accuracy with a standard deviation of 0.00\n",
      "Score on test set : 0.9713985140377408\n"
     ]
    }
   ],
   "source": [
    "dt_balanced = DecisionTreeClassifier(criterion = 'gini', max_features= 'log2', splitter= 'best' )\n",
    "dt_balanced.fit(X_train, y_train)\n",
    "print('Score on train set : ' + str(dt_balanced.score(X_train, y_train)))\n",
    "scores_dt_balanced = cross_val_score(dt_balanced, X_train, y_train, cv=5)\n",
    "print('Cross validation score: %0.2f accuracy with a standard deviation of %0.2f' % (scores_dt_balanced.mean(), scores_dt_balanced.std()))\n",
    "pred_dt_balanced = dt_balanced.predict(X_test)\n",
    "print('Score on test set : ' + str(dt_balanced.score(X_test, y_test)))"
   ]
  },
  {
   "cell_type": "markdown",
   "id": "cc044eb3",
   "metadata": {},
   "source": [
    "Here, cross validation results show that this model for balanced and standardized data  is very stable and accurate."
   ]
  },
  {
   "cell_type": "code",
   "execution_count": 64,
   "id": "ff36e9aa",
   "metadata": {},
   "outputs": [
    {
     "name": "stdout",
     "output_type": "stream",
     "text": [
      "              precision    recall  f1-score   support\n",
      "\n",
      "           0       0.96      0.95      0.96     15194\n",
      "           1       1.00      1.00      1.00     15273\n",
      "           2       0.96      0.96      0.96     15160\n",
      "\n",
      "    accuracy                           0.97     45627\n",
      "   macro avg       0.97      0.97      0.97     45627\n",
      "weighted avg       0.97      0.97      0.97     45627\n",
      "\n"
     ]
    }
   ],
   "source": [
    "print(classification_report(y_test, pred_dt_balanced))"
   ]
  },
  {
   "cell_type": "markdown",
   "id": "f6f52d2e",
   "metadata": {},
   "source": [
    "Decision tree without max_depth worked great also for unbalanced data, so here only tiny differences could appear, if any."
   ]
  },
  {
   "cell_type": "markdown",
   "id": "f9ae7565",
   "metadata": {},
   "source": [
    "## 8.3 Naive Bayes"
   ]
  },
  {
   "cell_type": "code",
   "execution_count": 65,
   "id": "5380d30e",
   "metadata": {},
   "outputs": [],
   "source": [
    "gnb_balanced = GaussianNB()"
   ]
  },
  {
   "cell_type": "code",
   "execution_count": 66,
   "id": "e6154f2d",
   "metadata": {
    "scrolled": true
   },
   "outputs": [
    {
     "name": "stdout",
     "output_type": "stream",
     "text": [
      "Score on train set : 0.9042278393026554\n",
      "Cross validation score: 0.90 accuracy with a standard deviation of 0.00\n",
      "Score on test set : 0.9051438841037105\n"
     ]
    }
   ],
   "source": [
    "gnb_balanced.fit(X_train, y_train)\n",
    "print('Score on train set : ' + str(gnb_balanced.score(X_train, y_train)))\n",
    "scores_gnb_balanced = cross_val_score(gnb_balanced, X_train, y_train, cv=5)\n",
    "print('Cross validation score: %0.2f accuracy with a standard deviation of %0.2f' % (scores_gnb_balanced.mean(), scores_gnb_balanced.std()))\n",
    "pred_gnb_balanced = gnb_balanced.predict(X_test)\n",
    "print('Score on test set : ' + str(gnb_balanced.score(X_test, y_test)))"
   ]
  },
  {
   "cell_type": "markdown",
   "id": "ebe80487",
   "metadata": {},
   "source": [
    "Cross validation score is the same as scores of training and test sets, which indicates that the model is very stable and well fitted."
   ]
  },
  {
   "cell_type": "code",
   "execution_count": 67,
   "id": "83f7e8eb",
   "metadata": {},
   "outputs": [
    {
     "name": "stdout",
     "output_type": "stream",
     "text": [
      "              precision    recall  f1-score   support\n",
      "\n",
      "           0       0.90      0.82      0.86     15194\n",
      "           1       0.99      0.98      0.99     15273\n",
      "           2       0.83      0.91      0.87     15160\n",
      "\n",
      "    accuracy                           0.91     45627\n",
      "   macro avg       0.91      0.91      0.91     45627\n",
      "weighted avg       0.91      0.91      0.91     45627\n",
      "\n"
     ]
    }
   ],
   "source": [
    "print(classification_report(y_test, pred_gnb_balanced))"
   ]
  },
  {
   "cell_type": "markdown",
   "id": "245e3c92",
   "metadata": {},
   "source": [
    "Here huge difference can be seen. For unbalanced and not standarized data naive bayes had only 60% accuracy. Now it is up to 90%. This shows how much difference preprocessing could make."
   ]
  },
  {
   "cell_type": "markdown",
   "id": "43cb6396",
   "metadata": {},
   "source": [
    "## 8.4 K Nearest Neighbors"
   ]
  },
  {
   "cell_type": "markdown",
   "id": "af80d820",
   "metadata": {},
   "source": [
    "#### In KNN models gridsearch would take so much time for upsampled data, that I decided to use same parameters as in first approach"
   ]
  },
  {
   "cell_type": "markdown",
   "id": "c32ead1b",
   "metadata": {},
   "source": [
    "### 8.4.1 KNN - 3 neighbors"
   ]
  },
  {
   "cell_type": "code",
   "execution_count": 68,
   "id": "9fc0986f",
   "metadata": {},
   "outputs": [
    {
     "name": "stdout",
     "output_type": "stream",
     "text": [
      "Score on train set : 0.9717267356121021\n",
      "Cross validation score: 0.95 accuracy with a standard deviation of 0.00\n",
      "Score on test set : 0.9484296578780108\n"
     ]
    }
   ],
   "source": [
    "knn_3_balanced = KNeighborsClassifier(n_neighbors=3, algorithm = 'brute', p = 2 , weights= 'uniform')\n",
    "knn_3_balanced.fit(X_train, y_train)\n",
    "print('Score on train set : ' + str(knn_3_balanced.score(X_train, y_train)))\n",
    "scores_knn_3_balanced = cross_val_score(knn_3_balanced, X_train, y_train, cv=5)\n",
    "print('Cross validation score: %0.2f accuracy with a standard deviation of %0.2f' % (scores_knn_3_balanced.mean(), scores_knn_3_balanced.std()))\n",
    "pred_knn_3_balanced = knn_3_balanced.predict(X_test)\n",
    "print('Score on test set : ' + str(knn_3_balanced.score(X_test, y_test)))"
   ]
  },
  {
   "cell_type": "markdown",
   "id": "a1fa6108",
   "metadata": {},
   "source": [
    "In this model cross validation score is closer to score of training set, than in this model in fisrt approach."
   ]
  },
  {
   "cell_type": "code",
   "execution_count": 69,
   "id": "1c3a358d",
   "metadata": {},
   "outputs": [
    {
     "name": "stdout",
     "output_type": "stream",
     "text": [
      "              precision    recall  f1-score   support\n",
      "\n",
      "           0       0.93      0.92      0.92     15194\n",
      "           1       0.94      0.96      0.95     15273\n",
      "           2       0.97      0.96      0.97     15160\n",
      "\n",
      "    accuracy                           0.95     45627\n",
      "   macro avg       0.95      0.95      0.95     45627\n",
      "weighted avg       0.95      0.95      0.95     45627\n",
      "\n"
     ]
    }
   ],
   "source": [
    "print(classification_report(y_test, pred_knn_3_balanced))"
   ]
  },
  {
   "cell_type": "markdown",
   "id": "82aeac34",
   "metadata": {},
   "source": [
    "Now that classes are balanced, this model works much better than before."
   ]
  },
  {
   "cell_type": "markdown",
   "id": "64e47d09",
   "metadata": {},
   "source": [
    "### 8.4.2 KNN - 5 neighbors"
   ]
  },
  {
   "cell_type": "code",
   "execution_count": 70,
   "id": "135c9f64",
   "metadata": {
    "scrolled": true
   },
   "outputs": [
    {
     "name": "stdout",
     "output_type": "stream",
     "text": [
      "Score on train set : 0.9625027005194391\n",
      "Cross validation score: 0.95 accuracy with a standard deviation of 0.00\n",
      "Score on test set : 0.9464790584522322\n"
     ]
    }
   ],
   "source": [
    "knn_5_balanced = KNeighborsClassifier(n_neighbors=5, algorithm = 'auto', p = 2 , weights= 'uniform')\n",
    "knn_5_balanced.fit(X_train, y_train)\n",
    "print('Score on train set : ' + str(knn_5_balanced.score(X_train, y_train)))\n",
    "scores_knn_5_balanced = cross_val_score(knn_5_balanced, X_train, y_train, cv=5)\n",
    "print('Cross validation score: %0.2f accuracy with a standard deviation of %0.2f' % (scores_knn_5_balanced.mean(), scores_knn_5_balanced.std()))\n",
    "pred_knn_5_balanced = knn_5_balanced.predict(X_test)\n",
    "print('Score on test set : ' + str(knn_5_balanced.score(X_test, y_test)))"
   ]
  },
  {
   "cell_type": "markdown",
   "id": "a015a378",
   "metadata": {},
   "source": [
    "Here there is the same behavior in the cross validation score as in the previous model."
   ]
  },
  {
   "cell_type": "code",
   "execution_count": 71,
   "id": "5d3d8125",
   "metadata": {},
   "outputs": [
    {
     "name": "stdout",
     "output_type": "stream",
     "text": [
      "              precision    recall  f1-score   support\n",
      "\n",
      "           0       0.93      0.92      0.92     15194\n",
      "           1       0.94      0.96      0.95     15273\n",
      "           2       0.98      0.96      0.97     15160\n",
      "\n",
      "    accuracy                           0.95     45627\n",
      "   macro avg       0.95      0.95      0.95     45627\n",
      "weighted avg       0.95      0.95      0.95     45627\n",
      "\n"
     ]
    }
   ],
   "source": [
    "print(classification_report(y_test, pred_knn_5_balanced))"
   ]
  },
  {
   "cell_type": "markdown",
   "id": "1df5bdff",
   "metadata": {},
   "source": [
    "For this models results are also significantly higher"
   ]
  },
  {
   "cell_type": "markdown",
   "id": "a780e827",
   "metadata": {},
   "source": [
    "### 8.4.3 KNN - 8 neighbors"
   ]
  },
  {
   "cell_type": "code",
   "execution_count": 72,
   "id": "8d2eba10",
   "metadata": {},
   "outputs": [
    {
     "name": "stdout",
     "output_type": "stream",
     "text": [
      "Score on train set : 0.9535041000929918\n",
      "Cross validation score: 0.94 accuracy with a standard deviation of 0.00\n",
      "Score on test set : 0.9411970982093936\n"
     ]
    }
   ],
   "source": [
    "knn_8_balanced = KNeighborsClassifier(n_neighbors=8, algorithm = 'brute', p = 2 , weights= 'uniform')\n",
    "knn_8_balanced.fit(X_train, y_train)\n",
    "print('Score on train set : ' + str(knn_8_balanced.score(X_train, y_train)))\n",
    "scores_knn_8_balanced = cross_val_score(knn_8_balanced, X_train, y_train, cv=5)\n",
    "print('Cross validation score: %0.2f accuracy with a standard deviation of %0.2f' % (scores_knn_8_balanced.mean(), scores_knn_8_balanced.std()))\n",
    "pred_knn_8_balanced = knn_8_balanced.predict(X_test)\n",
    "print('Score on test set : ' + str(knn_8_balanced.score(X_test, y_test)))"
   ]
  },
  {
   "cell_type": "markdown",
   "id": "a7b156ad",
   "metadata": {},
   "source": [
    "Here there is the same behavior in the cross validation score as in the two previous models."
   ]
  },
  {
   "cell_type": "code",
   "execution_count": 73,
   "id": "84bb22ad",
   "metadata": {},
   "outputs": [
    {
     "name": "stdout",
     "output_type": "stream",
     "text": [
      "              precision    recall  f1-score   support\n",
      "\n",
      "           0       0.91      0.93      0.92     15194\n",
      "           1       0.94      0.95      0.94     15273\n",
      "           2       0.98      0.95      0.97     15160\n",
      "\n",
      "    accuracy                           0.94     45627\n",
      "   macro avg       0.94      0.94      0.94     45627\n",
      "weighted avg       0.94      0.94      0.94     45627\n",
      "\n"
     ]
    }
   ],
   "source": [
    "print(classification_report(y_test, pred_knn_8_balanced))"
   ]
  },
  {
   "cell_type": "markdown",
   "id": "04ed82d1",
   "metadata": {},
   "source": [
    "In this model, accuracy is also much higher than in the model with unbalanced and unstandardized  data."
   ]
  },
  {
   "cell_type": "markdown",
   "id": "1324b7d9",
   "metadata": {},
   "source": [
    "### 8.4.4 KNN - 12 neighbors"
   ]
  },
  {
   "cell_type": "code",
   "execution_count": 74,
   "id": "fb12dd9d",
   "metadata": {},
   "outputs": [
    {
     "name": "stdout",
     "output_type": "stream",
     "text": [
      "Score on train set : 0.9481875992147359\n",
      "Cross validation score: 0.94 accuracy with a standard deviation of 0.00\n",
      "Score on test set : 0.9384574922743113\n"
     ]
    }
   ],
   "source": [
    "knn_12_balanced = KNeighborsClassifier(n_neighbors=12, algorithm = 'brute', p = 2 , weights= 'uniform')\n",
    "knn_12_balanced.fit(X_train, y_train)\n",
    "print('Score on train set : ' + str(knn_12_balanced.score(X_train, y_train)))\n",
    "scores_knn_12_balanced = cross_val_score(knn_12_balanced, X_train, y_train, cv=5)\n",
    "print('Cross validation score: %0.2f accuracy with a standard deviation of %0.2f' % (scores_knn_12_balanced.mean(), scores_knn_12_balanced.std()))\n",
    "pred_knn_12_balanced = knn_12_balanced.predict(X_test)\n",
    "print('Score on test set : ' + str(knn_12_balanced.score(X_test, y_test)))"
   ]
  },
  {
   "cell_type": "markdown",
   "id": "d0003a61",
   "metadata": {},
   "source": [
    "Cross validation score is the same as scores for training set, which shows that this modle is stable."
   ]
  },
  {
   "cell_type": "code",
   "execution_count": 75,
   "id": "b939d2ac",
   "metadata": {},
   "outputs": [
    {
     "name": "stdout",
     "output_type": "stream",
     "text": [
      "              precision    recall  f1-score   support\n",
      "\n",
      "           0       0.90      0.92      0.91     15194\n",
      "           1       0.93      0.95      0.94     15273\n",
      "           2       0.98      0.95      0.96     15160\n",
      "\n",
      "    accuracy                           0.94     45627\n",
      "   macro avg       0.94      0.94      0.94     45627\n",
      "weighted avg       0.94      0.94      0.94     45627\n",
      "\n"
     ]
    }
   ],
   "source": [
    "print(classification_report(y_test, pred_knn_12_balanced))"
   ]
  },
  {
   "cell_type": "markdown",
   "id": "ee6d7e5f",
   "metadata": {},
   "source": [
    "And in the last KNN model result are also much better."
   ]
  },
  {
   "cell_type": "markdown",
   "id": "ee6cdeaf",
   "metadata": {},
   "source": [
    "### 8.4.5 Summary of KNN"
   ]
  },
  {
   "cell_type": "markdown",
   "id": "18cb3cee",
   "metadata": {},
   "source": [
    "All of KNN models work better after balancing and standardizing data. What can be seen is the fact, that models with fewer neighbors work a little bit better, but I personally believe that this is not a significant difference."
   ]
  },
  {
   "cell_type": "markdown",
   "id": "00bda3d6",
   "metadata": {},
   "source": [
    "## 8.5  Neural Networks"
   ]
  },
  {
   "cell_type": "markdown",
   "id": "5adec207",
   "metadata": {},
   "source": [
    "All methods and hyperparameters I described in the neural network in first approach, so I will only comment results here."
   ]
  },
  {
   "cell_type": "code",
   "execution_count": 76,
   "id": "2926c2bb",
   "metadata": {},
   "outputs": [
    {
     "name": "stdout",
     "output_type": "stream",
     "text": [
      "[[1. 0. 0.]\n",
      " [1. 0. 0.]\n",
      " [1. 0. 0.]\n",
      " ...\n",
      " [0. 0. 1.]\n",
      " [0. 0. 1.]\n",
      " [0. 0. 1.]]\n"
     ]
    }
   ],
   "source": [
    "y_cat = to_categorical(y)\n",
    "print(y_cat)\n",
    "X_train, X_test, y_train, y_test = train_test_split(X, y_cat, test_size = 0.3, random_state = 275)"
   ]
  },
  {
   "cell_type": "markdown",
   "id": "25818482",
   "metadata": {},
   "source": [
    "### 8.5.1 Keras NN1"
   ]
  },
  {
   "cell_type": "code",
   "execution_count": 77,
   "id": "5f95a19a",
   "metadata": {
    "scrolled": false
   },
   "outputs": [
    {
     "name": "stdout",
     "output_type": "stream",
     "text": [
      "Model: \"sequential_3\"\n",
      "_________________________________________________________________\n",
      " Layer (type)                Output Shape              Param #   \n",
      "=================================================================\n",
      " dense_7 (Dense)             (None, 15)                165       \n",
      "                                                                 \n",
      " dropout_2 (Dropout)         (None, 15)                0         \n",
      "                                                                 \n",
      " dense_8 (Dense)             (None, 3)                 48        \n",
      "                                                                 \n",
      "=================================================================\n",
      "Total params: 213\n",
      "Trainable params: 213\n",
      "Non-trainable params: 0\n",
      "_________________________________________________________________\n"
     ]
    }
   ],
   "source": [
    "# define the model\n",
    "model1_balanced = Sequential()\n",
    "model1_balanced.add(Dense(15, input_shape=(10,), activation='relu'))\n",
    "model1_balanced.add(Dropout(0.2))\n",
    "model1_balanced.add(Dense(3, activation='softmax'))\n",
    "model1_balanced.compile(loss='categorical_crossentropy', optimizer=SGD(learning_rate = 0.01), metrics=['accuracy'])\n",
    "model1_balanced.summary()"
   ]
  },
  {
   "cell_type": "code",
   "execution_count": 78,
   "id": "e6626e32",
   "metadata": {
    "scrolled": false
   },
   "outputs": [
    {
     "name": "stdout",
     "output_type": "stream",
     "text": [
      "Epoch 1/50\n",
      "5324/5324 [==============================] - 15s 3ms/step - loss: 0.4627 - accuracy: 0.8115 - val_loss: 0.2513 - val_accuracy: 0.9262\n",
      "Epoch 2/50\n",
      "5324/5324 [==============================] - 14s 3ms/step - loss: 0.2469 - accuracy: 0.9200 - val_loss: 0.1832 - val_accuracy: 0.9463\n",
      "Epoch 3/50\n",
      "5324/5324 [==============================] - 14s 3ms/step - loss: 0.2027 - accuracy: 0.9384 - val_loss: 0.2241 - val_accuracy: 0.9077\n",
      "Epoch 4/50\n",
      "5324/5324 [==============================] - 14s 3ms/step - loss: 0.1841 - accuracy: 0.9440 - val_loss: 0.1547 - val_accuracy: 0.9483\n",
      "Epoch 5/50\n",
      "5324/5324 [==============================] - 15s 3ms/step - loss: 0.1726 - accuracy: 0.9481 - val_loss: 0.1398 - val_accuracy: 0.9576\n",
      "Epoch 6/50\n",
      "5324/5324 [==============================] - 14s 3ms/step - loss: 0.1638 - accuracy: 0.9499 - val_loss: 0.1319 - val_accuracy: 0.9617\n",
      "Epoch 7/50\n",
      "5324/5324 [==============================] - 13s 3ms/step - loss: 0.1567 - accuracy: 0.9524 - val_loss: 0.1293 - val_accuracy: 0.9596\n",
      "Epoch 8/50\n",
      "5324/5324 [==============================] - 14s 3ms/step - loss: 0.1517 - accuracy: 0.9538 - val_loss: 0.1243 - val_accuracy: 0.9634\n",
      "Epoch 9/50\n",
      "5324/5324 [==============================] - 14s 3ms/step - loss: 0.1488 - accuracy: 0.9548 - val_loss: 0.1203 - val_accuracy: 0.9645\n",
      "Epoch 10/50\n",
      "5324/5324 [==============================] - 15s 3ms/step - loss: 0.1443 - accuracy: 0.9562 - val_loss: 0.1199 - val_accuracy: 0.9630\n",
      "Epoch 11/50\n",
      "5324/5324 [==============================] - 14s 3ms/step - loss: 0.1411 - accuracy: 0.9571 - val_loss: 0.1170 - val_accuracy: 0.9639\n",
      "Epoch 12/50\n",
      "5324/5324 [==============================] - 14s 3ms/step - loss: 0.1381 - accuracy: 0.9584 - val_loss: 0.1155 - val_accuracy: 0.9651\n",
      "Epoch 13/50\n",
      "5324/5324 [==============================] - 14s 3ms/step - loss: 0.1362 - accuracy: 0.9585 - val_loss: 0.1139 - val_accuracy: 0.9652\n",
      "Epoch 14/50\n",
      "5324/5324 [==============================] - 14s 3ms/step - loss: 0.1349 - accuracy: 0.9593 - val_loss: 0.1121 - val_accuracy: 0.9653\n",
      "Epoch 15/50\n",
      "5324/5324 [==============================] - 14s 3ms/step - loss: 0.1323 - accuracy: 0.9599 - val_loss: 0.1112 - val_accuracy: 0.9661\n",
      "Epoch 16/50\n",
      "5324/5324 [==============================] - 14s 3ms/step - loss: 0.1307 - accuracy: 0.9612 - val_loss: 0.1122 - val_accuracy: 0.9669\n",
      "Epoch 17/50\n",
      "5324/5324 [==============================] - 15s 3ms/step - loss: 0.1288 - accuracy: 0.9614 - val_loss: 0.1116 - val_accuracy: 0.9636\n",
      "Epoch 18/50\n",
      "5324/5324 [==============================] - 15s 3ms/step - loss: 0.1274 - accuracy: 0.9617 - val_loss: 0.1116 - val_accuracy: 0.9691\n",
      "Epoch 19/50\n",
      "5324/5324 [==============================] - 14s 3ms/step - loss: 0.1264 - accuracy: 0.9616 - val_loss: 0.1058 - val_accuracy: 0.9683\n",
      "Epoch 20/50\n",
      "5324/5324 [==============================] - 14s 3ms/step - loss: 0.1253 - accuracy: 0.9617 - val_loss: 0.1085 - val_accuracy: 0.9668\n",
      "Epoch 21/50\n",
      "5324/5324 [==============================] - 14s 3ms/step - loss: 0.1247 - accuracy: 0.9628 - val_loss: 0.1038 - val_accuracy: 0.9696\n",
      "Epoch 22/50\n",
      "5324/5324 [==============================] - 15s 3ms/step - loss: 0.1246 - accuracy: 0.9625 - val_loss: 0.1060 - val_accuracy: 0.9678\n",
      "Epoch 23/50\n",
      "5324/5324 [==============================] - 14s 3ms/step - loss: 0.1232 - accuracy: 0.9632 - val_loss: 0.1147 - val_accuracy: 0.9621\n",
      "Epoch 24/50\n",
      "5324/5324 [==============================] - 14s 3ms/step - loss: 0.1214 - accuracy: 0.9635 - val_loss: 0.1048 - val_accuracy: 0.9703\n",
      "Epoch 25/50\n",
      "5324/5324 [==============================] - 16s 3ms/step - loss: 0.1206 - accuracy: 0.9640 - val_loss: 0.1043 - val_accuracy: 0.9679\n",
      "Epoch 26/50\n",
      "5324/5324 [==============================] - 14s 3ms/step - loss: 0.1201 - accuracy: 0.9633 - val_loss: 0.1023 - val_accuracy: 0.9680\n",
      "Epoch 27/50\n",
      "5324/5324 [==============================] - 14s 3ms/step - loss: 0.1191 - accuracy: 0.9635 - val_loss: 0.1020 - val_accuracy: 0.9685\n",
      "Epoch 28/50\n",
      "5324/5324 [==============================] - 14s 3ms/step - loss: 0.1202 - accuracy: 0.9635 - val_loss: 0.1019 - val_accuracy: 0.9695\n",
      "Epoch 29/50\n",
      "5324/5324 [==============================] - 14s 3ms/step - loss: 0.1193 - accuracy: 0.9637 - val_loss: 0.1010 - val_accuracy: 0.9705\n",
      "Epoch 30/50\n",
      "5324/5324 [==============================] - 14s 3ms/step - loss: 0.1179 - accuracy: 0.9641 - val_loss: 0.1006 - val_accuracy: 0.9691\n",
      "Epoch 31/50\n",
      "5324/5324 [==============================] - 14s 3ms/step - loss: 0.1166 - accuracy: 0.9646 - val_loss: 0.1006 - val_accuracy: 0.9700\n",
      "Epoch 32/50\n",
      "5324/5324 [==============================] - 14s 3ms/step - loss: 0.1180 - accuracy: 0.9642 - val_loss: 0.1051 - val_accuracy: 0.9709\n",
      "Epoch 33/50\n",
      "5324/5324 [==============================] - 14s 3ms/step - loss: 0.1168 - accuracy: 0.9641 - val_loss: 0.1038 - val_accuracy: 0.9679\n",
      "Epoch 34/50\n",
      "5324/5324 [==============================] - 14s 3ms/step - loss: 0.1175 - accuracy: 0.9642 - val_loss: 0.0989 - val_accuracy: 0.9700\n",
      "Epoch 35/50\n",
      "5324/5324 [==============================] - 15s 3ms/step - loss: 0.1161 - accuracy: 0.9643 - val_loss: 0.1027 - val_accuracy: 0.9680\n",
      "Epoch 36/50\n",
      "5324/5324 [==============================] - 14s 3ms/step - loss: 0.1168 - accuracy: 0.9644 - val_loss: 0.1004 - val_accuracy: 0.9684\n",
      "Epoch 37/50\n",
      "5324/5324 [==============================] - 15s 3ms/step - loss: 0.1149 - accuracy: 0.9647 - val_loss: 0.0977 - val_accuracy: 0.9703\n",
      "Epoch 38/50\n",
      "5324/5324 [==============================] - 13s 2ms/step - loss: 0.1154 - accuracy: 0.9641 - val_loss: 0.1001 - val_accuracy: 0.9705\n",
      "Epoch 39/50\n",
      "5324/5324 [==============================] - 13s 2ms/step - loss: 0.1148 - accuracy: 0.9652 - val_loss: 0.0987 - val_accuracy: 0.9715\n",
      "Epoch 40/50\n",
      "5324/5324 [==============================] - 14s 3ms/step - loss: 0.1141 - accuracy: 0.9652 - val_loss: 0.0976 - val_accuracy: 0.9701\n",
      "Epoch 41/50\n",
      "5324/5324 [==============================] - 15s 3ms/step - loss: 0.1130 - accuracy: 0.9657 - val_loss: 0.0990 - val_accuracy: 0.9697\n",
      "Epoch 42/50\n",
      "5324/5324 [==============================] - 14s 3ms/step - loss: 0.1142 - accuracy: 0.9657 - val_loss: 0.1007 - val_accuracy: 0.9684\n",
      "Epoch 43/50\n",
      "5324/5324 [==============================] - 25s 5ms/step - loss: 0.1123 - accuracy: 0.9656 - val_loss: 0.0981 - val_accuracy: 0.9700\n",
      "Epoch 44/50\n",
      "5324/5324 [==============================] - 14s 3ms/step - loss: 0.1132 - accuracy: 0.9659 - val_loss: 0.1021 - val_accuracy: 0.9715\n",
      "Epoch 45/50\n",
      "5324/5324 [==============================] - 14s 3ms/step - loss: 0.1127 - accuracy: 0.9657 - val_loss: 0.0968 - val_accuracy: 0.9698\n",
      "Epoch 46/50\n",
      "5324/5324 [==============================] - 13s 3ms/step - loss: 0.1125 - accuracy: 0.9655 - val_loss: 0.0997 - val_accuracy: 0.9710\n",
      "Epoch 47/50\n",
      "5324/5324 [==============================] - 14s 3ms/step - loss: 0.1121 - accuracy: 0.9658 - val_loss: 0.0996 - val_accuracy: 0.9682\n",
      "Epoch 48/50\n",
      "5324/5324 [==============================] - 14s 3ms/step - loss: 0.1113 - accuracy: 0.9666 - val_loss: 0.0964 - val_accuracy: 0.9700\n",
      "Epoch 49/50\n",
      "5324/5324 [==============================] - 14s 3ms/step - loss: 0.1120 - accuracy: 0.9657 - val_loss: 0.0957 - val_accuracy: 0.9702\n",
      "Epoch 50/50\n",
      "5324/5324 [==============================] - 13s 3ms/step - loss: 0.1118 - accuracy: 0.9650 - val_loss: 0.0968 - val_accuracy: 0.9710\n"
     ]
    },
    {
     "data": {
      "text/plain": [
       "<keras.callbacks.History at 0x2255408a170>"
      ]
     },
     "execution_count": 78,
     "metadata": {},
     "output_type": "execute_result"
    }
   ],
   "source": [
    "# fit model\n",
    "history1_balanced = History() # will be used for getting loss\n",
    "model1_balanced.fit(X_train, y_train,validation_data=(X_test,y_test), epochs=50,\n",
    "          batch_size=20,verbose=1, callbacks=[history1_balanced])"
   ]
  },
  {
   "cell_type": "code",
   "execution_count": 79,
   "id": "64565b69",
   "metadata": {},
   "outputs": [
    {
     "name": "stdout",
     "output_type": "stream",
     "text": [
      "1426/1426 [==============================] - 2s 1ms/step\n"
     ]
    }
   ],
   "source": [
    "y_test_class = np.argmax(y_test, axis=1)\n",
    "pred_nn1_balanced = model1_balanced.predict(X_test)\n",
    "pred_nn1_classes_balanced = np.argmax(pred_nn1_balanced, axis=1)"
   ]
  },
  {
   "cell_type": "code",
   "execution_count": 80,
   "id": "4bbc721d",
   "metadata": {
    "scrolled": true
   },
   "outputs": [
    {
     "name": "stdout",
     "output_type": "stream",
     "text": [
      "              precision    recall  f1-score   support\n",
      "\n",
      "           0       0.96      0.95      0.96     15194\n",
      "           1       0.98      1.00      0.99     15273\n",
      "           2       0.97      0.96      0.96     15160\n",
      "\n",
      "    accuracy                           0.97     45627\n",
      "   macro avg       0.97      0.97      0.97     45627\n",
      "weighted avg       0.97      0.97      0.97     45627\n",
      "\n"
     ]
    }
   ],
   "source": [
    "print(classification_report(y_test_class, pred_nn1_classes_balanced))"
   ]
  },
  {
   "cell_type": "markdown",
   "id": "0a49476d",
   "metadata": {},
   "source": [
    "In this case, the neural network worked brilliant for all classes. The impact of balancing and standardization can be easily seen here."
   ]
  },
  {
   "cell_type": "code",
   "execution_count": 95,
   "id": "a2cfe630",
   "metadata": {
    "scrolled": true
   },
   "outputs": [
    {
     "data": {
      "text/plain": [
       "array([[    0, 15071],\n",
       "       [    1, 15530],\n",
       "       [    2, 15026]], dtype=int64)"
      ]
     },
     "execution_count": 95,
     "metadata": {},
     "output_type": "execute_result"
    }
   ],
   "source": [
    "np.array(np.unique(pred_nn1_classes_balanced, return_counts=True)).T # numbers of predictions of each class"
   ]
  },
  {
   "cell_type": "markdown",
   "id": "2200a28e",
   "metadata": {},
   "source": [
    "Loss curve"
   ]
  },
  {
   "cell_type": "code",
   "execution_count": 101,
   "id": "904377db",
   "metadata": {},
   "outputs": [
    {
     "data": {
      "text/plain": [
       "<matplotlib.legend.Legend at 0x2255baddf60>"
      ]
     },
     "execution_count": 101,
     "metadata": {},
     "output_type": "execute_result"
    },
    {
     "data": {
      "image/png": "[encoded data removed]",
      "text/plain": [
       "<Figure size 640x480 with 1 Axes>"
      ]
     },
     "metadata": {},
     "output_type": "display_data"
    }
   ],
   "source": [
    "fig,ax = plt.subplots()\n",
    "ax.plot(history1_balanced.history['loss'])\n",
    "ax.plot(history1_balanced.history['val_loss'])\n",
    "ax.set_title('Model1 balanced loss')\n",
    "ax.set_ylim(0, 1)\n",
    "ax.set_ylabel('Loss')\n",
    "ax.set_xlabel('Epoch')\n",
    "ax.legend(['Train', 'Test'], loc='upper left')"
   ]
  },
  {
   "cell_type": "markdown",
   "id": "99a0ed63",
   "metadata": {},
   "source": [
    "Loss of the test set is lower than los of the training set. This shows, that neural network should be learned more. This could be cause by the droput, as dropout should be used in the neural networks with a big structure."
   ]
  },
  {
   "cell_type": "markdown",
   "id": "b01e3789",
   "metadata": {},
   "source": [
    "## 8.5.2 Keras NN2"
   ]
  },
  {
   "cell_type": "code",
   "execution_count": 83,
   "id": "ef9219e5",
   "metadata": {},
   "outputs": [
    {
     "name": "stdout",
     "output_type": "stream",
     "text": [
      "Model: \"sequential_4\"\n",
      "_________________________________________________________________\n",
      " Layer (type)                Output Shape              Param #   \n",
      "=================================================================\n",
      " dense_9 (Dense)             (None, 15)                165       \n",
      "                                                                 \n",
      " dense_10 (Dense)            (None, 7)                 112       \n",
      "                                                                 \n",
      " dense_11 (Dense)            (None, 3)                 24        \n",
      "                                                                 \n",
      "=================================================================\n",
      "Total params: 301\n",
      "Trainable params: 301\n",
      "Non-trainable params: 0\n",
      "_________________________________________________________________\n"
     ]
    }
   ],
   "source": [
    "# define the model\n",
    "model2_balanced = Sequential()\n",
    "model2_balanced.add(Dense(15, input_shape=(10,), activation=LeakyReLU(alpha=-0.01)))\n",
    "model2_balanced.add(Dense(7, activation = 'relu'))\n",
    "model2_balanced.add(Dense(3, activation='softmax'))\n",
    "model2_balanced.compile(loss='categorical_crossentropy', optimizer=SGD(learning_rate=0.01), metrics=['accuracy'])\n",
    "model2_balanced.summary()"
   ]
  },
  {
   "cell_type": "code",
   "execution_count": 84,
   "id": "d69d174f",
   "metadata": {
    "scrolled": false
   },
   "outputs": [
    {
     "name": "stdout",
     "output_type": "stream",
     "text": [
      "Epoch 1/50\n",
      "5324/5324 [==============================] - 15s 3ms/step - loss: 0.3047 - accuracy: 0.8864 - val_loss: 0.1645 - val_accuracy: 0.9434\n",
      "Epoch 2/50\n",
      "5324/5324 [==============================] - 15s 3ms/step - loss: 0.1459 - accuracy: 0.9517 - val_loss: 0.1309 - val_accuracy: 0.9585\n",
      "Epoch 3/50\n",
      "5324/5324 [==============================] - 17s 3ms/step - loss: 0.1260 - accuracy: 0.9591 - val_loss: 0.1241 - val_accuracy: 0.9599\n",
      "Epoch 4/50\n",
      "5324/5324 [==============================] - 14s 3ms/step - loss: 0.1172 - accuracy: 0.9625 - val_loss: 0.1121 - val_accuracy: 0.9640\n",
      "Epoch 5/50\n",
      "5324/5324 [==============================] - 14s 3ms/step - loss: 0.1120 - accuracy: 0.9643 - val_loss: 0.1052 - val_accuracy: 0.9668\n",
      "Epoch 6/50\n",
      "5324/5324 [==============================] - 13s 3ms/step - loss: 0.1087 - accuracy: 0.9650 - val_loss: 0.1042 - val_accuracy: 0.9662\n",
      "Epoch 7/50\n",
      "5324/5324 [==============================] - 14s 3ms/step - loss: 0.1066 - accuracy: 0.9654 - val_loss: 0.1404 - val_accuracy: 0.9481\n",
      "Epoch 8/50\n",
      "5324/5324 [==============================] - 13s 3ms/step - loss: 0.1055 - accuracy: 0.9658 - val_loss: 0.1148 - val_accuracy: 0.9612\n",
      "Epoch 9/50\n",
      "5324/5324 [==============================] - 14s 3ms/step - loss: 0.1046 - accuracy: 0.9663 - val_loss: 0.1147 - val_accuracy: 0.9648\n",
      "Epoch 10/50\n",
      "5324/5324 [==============================] - 13s 3ms/step - loss: 0.1016 - accuracy: 0.9674 - val_loss: 0.0964 - val_accuracy: 0.9692\n",
      "Epoch 11/50\n",
      "5324/5324 [==============================] - 14s 3ms/step - loss: 0.1010 - accuracy: 0.9677 - val_loss: 0.0960 - val_accuracy: 0.9702\n",
      "Epoch 12/50\n",
      "5324/5324 [==============================] - 14s 3ms/step - loss: 0.0998 - accuracy: 0.9682 - val_loss: 0.0999 - val_accuracy: 0.9669\n",
      "Epoch 13/50\n",
      "5324/5324 [==============================] - 14s 3ms/step - loss: 0.0988 - accuracy: 0.9684 - val_loss: 0.0948 - val_accuracy: 0.9691\n",
      "Epoch 14/50\n",
      "5324/5324 [==============================] - 14s 3ms/step - loss: 0.0984 - accuracy: 0.9684 - val_loss: 0.1863 - val_accuracy: 0.9424\n",
      "Epoch 15/50\n",
      "5324/5324 [==============================] - 14s 3ms/step - loss: 0.0974 - accuracy: 0.9682 - val_loss: 0.0972 - val_accuracy: 0.9700\n",
      "Epoch 16/50\n",
      "5324/5324 [==============================] - 15s 3ms/step - loss: 0.0962 - accuracy: 0.9693 - val_loss: 0.0931 - val_accuracy: 0.9700\n",
      "Epoch 17/50\n",
      "5324/5324 [==============================] - 14s 3ms/step - loss: 0.0964 - accuracy: 0.9686 - val_loss: 0.0922 - val_accuracy: 0.9719\n",
      "Epoch 18/50\n",
      "5324/5324 [==============================] - 14s 3ms/step - loss: 0.0951 - accuracy: 0.9691 - val_loss: 0.0919 - val_accuracy: 0.9704\n",
      "Epoch 19/50\n",
      "5324/5324 [==============================] - 14s 3ms/step - loss: 0.0944 - accuracy: 0.9700 - val_loss: 0.0908 - val_accuracy: 0.9714\n",
      "Epoch 20/50\n",
      "5324/5324 [==============================] - 14s 3ms/step - loss: 0.0943 - accuracy: 0.9696 - val_loss: 0.0928 - val_accuracy: 0.9697\n",
      "Epoch 21/50\n",
      "5324/5324 [==============================] - 14s 3ms/step - loss: 0.0941 - accuracy: 0.9697 - val_loss: 0.0923 - val_accuracy: 0.9694\n",
      "Epoch 22/50\n",
      "5324/5324 [==============================] - 13s 3ms/step - loss: 0.0929 - accuracy: 0.9701 - val_loss: 0.0919 - val_accuracy: 0.9700\n",
      "Epoch 23/50\n",
      "5324/5324 [==============================] - 14s 3ms/step - loss: 0.0929 - accuracy: 0.9701 - val_loss: 0.0979 - val_accuracy: 0.9673\n",
      "Epoch 24/50\n",
      "5324/5324 [==============================] - 14s 3ms/step - loss: 0.0912 - accuracy: 0.9704 - val_loss: 0.0882 - val_accuracy: 0.9714\n",
      "Epoch 25/50\n",
      "5324/5324 [==============================] - 14s 3ms/step - loss: 0.0917 - accuracy: 0.9707 - val_loss: 0.0888 - val_accuracy: 0.9714\n",
      "Epoch 26/50\n",
      "5324/5324 [==============================] - 14s 3ms/step - loss: 0.0909 - accuracy: 0.9708 - val_loss: 0.0884 - val_accuracy: 0.9724\n",
      "Epoch 27/50\n",
      "5324/5324 [==============================] - 13s 3ms/step - loss: 0.0910 - accuracy: 0.9708 - val_loss: 0.0947 - val_accuracy: 0.9689\n",
      "Epoch 28/50\n",
      "5324/5324 [==============================] - 18s 3ms/step - loss: 0.0907 - accuracy: 0.9710 - val_loss: 0.0886 - val_accuracy: 0.9717\n",
      "Epoch 29/50\n",
      "5324/5324 [==============================] - 12s 2ms/step - loss: 0.0893 - accuracy: 0.9711 - val_loss: 0.0878 - val_accuracy: 0.9720\n",
      "Epoch 30/50\n",
      "5324/5324 [==============================] - 25s 5ms/step - loss: 0.0891 - accuracy: 0.9711 - val_loss: 0.0890 - val_accuracy: 0.9709\n",
      "Epoch 31/50\n",
      "5324/5324 [==============================] - 26s 5ms/step - loss: 0.0892 - accuracy: 0.9712 - val_loss: 0.0886 - val_accuracy: 0.9725\n",
      "Epoch 32/50\n",
      "5324/5324 [==============================] - 18s 3ms/step - loss: 0.0889 - accuracy: 0.9714 - val_loss: 0.0898 - val_accuracy: 0.9713\n",
      "Epoch 33/50\n",
      "5324/5324 [==============================] - 21s 4ms/step - loss: 0.0887 - accuracy: 0.9711 - val_loss: 0.0868 - val_accuracy: 0.9717\n",
      "Epoch 34/50\n",
      "5324/5324 [==============================] - 15s 3ms/step - loss: 0.0884 - accuracy: 0.9715 - val_loss: 0.0921 - val_accuracy: 0.9719\n",
      "Epoch 35/50\n",
      "5324/5324 [==============================] - 13s 2ms/step - loss: 0.0880 - accuracy: 0.9715 - val_loss: 0.0880 - val_accuracy: 0.9716\n",
      "Epoch 36/50\n",
      "5324/5324 [==============================] - 13s 2ms/step - loss: 0.0879 - accuracy: 0.9717 - val_loss: 0.0891 - val_accuracy: 0.9712\n",
      "Epoch 37/50\n",
      "5324/5324 [==============================] - 13s 2ms/step - loss: 0.0873 - accuracy: 0.9719 - val_loss: 0.0914 - val_accuracy: 0.9717\n",
      "Epoch 38/50\n",
      "5324/5324 [==============================] - 14s 3ms/step - loss: 0.0874 - accuracy: 0.9718 - val_loss: 0.0891 - val_accuracy: 0.9724\n",
      "Epoch 39/50\n",
      "5324/5324 [==============================] - 13s 2ms/step - loss: 0.0868 - accuracy: 0.9720 - val_loss: 0.0885 - val_accuracy: 0.9719\n",
      "Epoch 40/50\n",
      "5324/5324 [==============================] - 13s 2ms/step - loss: 0.0868 - accuracy: 0.9720 - val_loss: 0.0912 - val_accuracy: 0.9700\n",
      "Epoch 41/50\n",
      "5324/5324 [==============================] - 13s 2ms/step - loss: 0.0863 - accuracy: 0.9724 - val_loss: 0.0873 - val_accuracy: 0.9727\n",
      "Epoch 42/50\n",
      "5324/5324 [==============================] - 13s 2ms/step - loss: 0.0861 - accuracy: 0.9720 - val_loss: 0.0851 - val_accuracy: 0.9727\n",
      "Epoch 43/50\n",
      "5324/5324 [==============================] - 12s 2ms/step - loss: 0.0858 - accuracy: 0.9722 - val_loss: 0.0849 - val_accuracy: 0.9736\n",
      "Epoch 44/50\n",
      "5324/5324 [==============================] - 13s 2ms/step - loss: 0.0856 - accuracy: 0.9725 - val_loss: 0.0946 - val_accuracy: 0.9692\n",
      "Epoch 45/50\n",
      "5324/5324 [==============================] - 13s 2ms/step - loss: 0.0852 - accuracy: 0.9727 - val_loss: 0.0856 - val_accuracy: 0.9728\n",
      "Epoch 46/50\n",
      "5324/5324 [==============================] - 14s 3ms/step - loss: 0.0851 - accuracy: 0.9721 - val_loss: 0.0848 - val_accuracy: 0.9730\n",
      "Epoch 47/50\n",
      "5324/5324 [==============================] - 15s 3ms/step - loss: 0.0844 - accuracy: 0.9730 - val_loss: 0.0864 - val_accuracy: 0.9722\n",
      "Epoch 48/50\n",
      "5324/5324 [==============================] - 15s 3ms/step - loss: 0.0847 - accuracy: 0.9728 - val_loss: 0.1074 - val_accuracy: 0.9648\n",
      "Epoch 49/50\n",
      "5324/5324 [==============================] - 16s 3ms/step - loss: 0.0844 - accuracy: 0.9726 - val_loss: 0.0825 - val_accuracy: 0.9744\n",
      "Epoch 50/50\n",
      "5324/5324 [==============================] - 16s 3ms/step - loss: 0.0854 - accuracy: 0.9721 - val_loss: 0.0829 - val_accuracy: 0.9739\n"
     ]
    },
    {
     "data": {
      "text/plain": [
       "<keras.callbacks.History at 0x22553fdff40>"
      ]
     },
     "execution_count": 84,
     "metadata": {},
     "output_type": "execute_result"
    }
   ],
   "source": [
    "# fit model\n",
    "history2_balanced = History() # will be used for getting loss\n",
    "model2_balanced.fit(X_train, y_train,validation_data=(X_test,y_test), epochs=50,\n",
    "          batch_size=20,verbose=1, callbacks=[history2_balanced])"
   ]
  },
  {
   "cell_type": "code",
   "execution_count": 85,
   "id": "35e46ecd",
   "metadata": {},
   "outputs": [
    {
     "name": "stdout",
     "output_type": "stream",
     "text": [
      "1426/1426 [==============================] - 3s 2ms/step\n"
     ]
    }
   ],
   "source": [
    "y_test_class = np.argmax(y_test, axis=1)\n",
    "pred_nn2_balanced = model2_balanced.predict(X_test)\n",
    "pred_nn2_classes_balanced = np.argmax(pred_nn2_balanced, axis=1)"
   ]
  },
  {
   "cell_type": "code",
   "execution_count": 86,
   "id": "3552ad9b",
   "metadata": {
    "scrolled": true
   },
   "outputs": [
    {
     "name": "stdout",
     "output_type": "stream",
     "text": [
      "              precision    recall  f1-score   support\n",
      "\n",
      "           0       0.96      0.96      0.96     15194\n",
      "           1       0.99      1.00      0.99     15273\n",
      "           2       0.97      0.96      0.97     15160\n",
      "\n",
      "    accuracy                           0.97     45627\n",
      "   macro avg       0.97      0.97      0.97     45627\n",
      "weighted avg       0.97      0.97      0.97     45627\n",
      "\n"
     ]
    }
   ],
   "source": [
    "print(classification_report(y_test_class, pred_nn2_classes_balanced))"
   ]
  },
  {
   "cell_type": "markdown",
   "id": "7fdd5eca",
   "metadata": {},
   "source": [
    "This neural network also wokrs great for all classes."
   ]
  },
  {
   "cell_type": "code",
   "execution_count": 87,
   "id": "3239fe96",
   "metadata": {
    "scrolled": true
   },
   "outputs": [
    {
     "data": {
      "text/plain": [
       "array([[    0, 15120],\n",
       "       [    1, 15477],\n",
       "       [    2, 15030]], dtype=int64)"
      ]
     },
     "execution_count": 87,
     "metadata": {},
     "output_type": "execute_result"
    }
   ],
   "source": [
    "np.array(np.unique(pred_nn2_classes_balanced, return_counts=True)).T"
   ]
  },
  {
   "cell_type": "markdown",
   "id": "c39c36ee",
   "metadata": {},
   "source": [
    "Loss curve"
   ]
  },
  {
   "cell_type": "code",
   "execution_count": 97,
   "id": "1c96b994",
   "metadata": {},
   "outputs": [
    {
     "data": {
      "text/plain": [
       "<matplotlib.legend.Legend at 0x22558dc2da0>"
      ]
     },
     "execution_count": 97,
     "metadata": {},
     "output_type": "execute_result"
    },
    {
     "data": {
      "image/png": "[encoded data removed]",
      "text/plain": [
       "<Figure size 640x480 with 1 Axes>"
      ]
     },
     "metadata": {},
     "output_type": "display_data"
    }
   ],
   "source": [
    "fig,ax = plt.subplots()\n",
    "ax.plot(history2_balanced.history['loss'])\n",
    "ax.plot(history2_balanced.history['val_loss'])\n",
    "ax.set_title('Model2 balanced loss ')\n",
    "ax.set_ylim(0,0.5)\n",
    "ax.set_ylabel('Loss')\n",
    "ax.set_xlabel('Epoch')\n",
    "ax.legend(['Train', 'Test'], loc='upper left')"
   ]
  },
  {
   "cell_type": "markdown",
   "id": "e5e1ed19",
   "metadata": {},
   "source": [
    "Here, the behavior of loss function for the test set is not stable at the beginning. But it can be seen, that fitting this model could be ended a little bit earlier, as  both loss functions has decreased to the point of stability. Continued training of this fit could likely lead to an overfit."
   ]
  },
  {
   "cell_type": "markdown",
   "id": "8ad1a5bf",
   "metadata": {},
   "source": [
    "### 8.5.3 Keras NN3"
   ]
  },
  {
   "cell_type": "code",
   "execution_count": 89,
   "id": "c9796191",
   "metadata": {},
   "outputs": [
    {
     "name": "stdout",
     "output_type": "stream",
     "text": [
      "Model: \"sequential_5\"\n",
      "_________________________________________________________________\n",
      " Layer (type)                Output Shape              Param #   \n",
      "=================================================================\n",
      " dense_12 (Dense)            (None, 15)                165       \n",
      "                                                                 \n",
      " dropout_3 (Dropout)         (None, 15)                0         \n",
      "                                                                 \n",
      " dense_13 (Dense)            (None, 3)                 48        \n",
      "                                                                 \n",
      "=================================================================\n",
      "Total params: 213\n",
      "Trainable params: 213\n",
      "Non-trainable params: 0\n",
      "_________________________________________________________________\n"
     ]
    }
   ],
   "source": [
    "# define the model\n",
    "model3_balanced = Sequential()\n",
    "model3_balanced.add(Dense(15, input_shape=(10,), activation='relu'))\n",
    "model3_balanced.add(Dropout(0.2))\n",
    "model3_balanced.add(Dense(3, activation='softmax'))\n",
    "model3_balanced.compile(loss='categorical_crossentropy', optimizer=Adam(learning_rate=0.01), metrics=['accuracy'])\n",
    "model3_balanced.summary()"
   ]
  },
  {
   "cell_type": "code",
   "execution_count": 90,
   "id": "03646842",
   "metadata": {
    "scrolled": false
   },
   "outputs": [
    {
     "name": "stdout",
     "output_type": "stream",
     "text": [
      "Epoch 1/50\n",
      "5324/5324 [==============================] - 17s 3ms/step - loss: 0.2072 - accuracy: 0.9288 - val_loss: 0.1638 - val_accuracy: 0.9412\n",
      "Epoch 2/50\n",
      "5324/5324 [==============================] - 21s 4ms/step - loss: 0.1615 - accuracy: 0.9478 - val_loss: 0.1245 - val_accuracy: 0.9623\n",
      "Epoch 3/50\n",
      "5324/5324 [==============================] - 17s 3ms/step - loss: 0.1515 - accuracy: 0.9511 - val_loss: 0.1411 - val_accuracy: 0.9565\n",
      "Epoch 4/50\n",
      "5324/5324 [==============================] - 15s 3ms/step - loss: 0.1483 - accuracy: 0.9524 - val_loss: 0.1304 - val_accuracy: 0.9608\n",
      "Epoch 5/50\n",
      "5324/5324 [==============================] - 22s 4ms/step - loss: 0.1479 - accuracy: 0.9527 - val_loss: 0.1856 - val_accuracy: 0.9408\n",
      "Epoch 6/50\n",
      "5324/5324 [==============================] - 15s 3ms/step - loss: 0.1431 - accuracy: 0.9546 - val_loss: 0.1210 - val_accuracy: 0.9604\n",
      "Epoch 7/50\n",
      "5324/5324 [==============================] - 15s 3ms/step - loss: 0.1432 - accuracy: 0.9551 - val_loss: 0.1099 - val_accuracy: 0.9676\n",
      "Epoch 8/50\n",
      "5324/5324 [==============================] - 15s 3ms/step - loss: 0.1396 - accuracy: 0.9571 - val_loss: 0.1166 - val_accuracy: 0.9665\n",
      "Epoch 9/50\n",
      "5324/5324 [==============================] - 15s 3ms/step - loss: 0.1407 - accuracy: 0.9563 - val_loss: 0.1098 - val_accuracy: 0.9668\n",
      "Epoch 10/50\n",
      "5324/5324 [==============================] - 17s 3ms/step - loss: 0.1381 - accuracy: 0.9569 - val_loss: 0.1001 - val_accuracy: 0.9695\n",
      "Epoch 11/50\n",
      "5324/5324 [==============================] - 15s 3ms/step - loss: 0.1389 - accuracy: 0.9573 - val_loss: 0.1097 - val_accuracy: 0.9661\n",
      "Epoch 12/50\n",
      "5324/5324 [==============================] - 15s 3ms/step - loss: 0.1361 - accuracy: 0.9578 - val_loss: 0.1137 - val_accuracy: 0.9668\n",
      "Epoch 13/50\n",
      "5324/5324 [==============================] - 15s 3ms/step - loss: 0.1359 - accuracy: 0.9579 - val_loss: 0.1007 - val_accuracy: 0.9703\n",
      "Epoch 14/50\n",
      "5324/5324 [==============================] - 15s 3ms/step - loss: 0.1381 - accuracy: 0.9576 - val_loss: 0.1073 - val_accuracy: 0.9684\n",
      "Epoch 15/50\n",
      "5324/5324 [==============================] - 15s 3ms/step - loss: 0.1350 - accuracy: 0.9584 - val_loss: 0.1128 - val_accuracy: 0.9681\n",
      "Epoch 16/50\n",
      "5324/5324 [==============================] - 14s 3ms/step - loss: 0.1353 - accuracy: 0.9584 - val_loss: 0.1283 - val_accuracy: 0.9522\n",
      "Epoch 17/50\n",
      "5324/5324 [==============================] - 14s 3ms/step - loss: 0.1347 - accuracy: 0.9592 - val_loss: 0.1141 - val_accuracy: 0.9682\n",
      "Epoch 18/50\n",
      "5324/5324 [==============================] - 14s 3ms/step - loss: 0.1342 - accuracy: 0.9594 - val_loss: 0.1140 - val_accuracy: 0.9666\n",
      "Epoch 19/50\n",
      "5324/5324 [==============================] - 14s 3ms/step - loss: 0.1344 - accuracy: 0.9590 - val_loss: 0.1158 - val_accuracy: 0.9613\n",
      "Epoch 20/50\n",
      "5324/5324 [==============================] - 14s 3ms/step - loss: 0.1346 - accuracy: 0.9587 - val_loss: 0.1189 - val_accuracy: 0.9637\n",
      "Epoch 21/50\n",
      "5324/5324 [==============================] - 13s 3ms/step - loss: 0.1322 - accuracy: 0.9594 - val_loss: 0.1015 - val_accuracy: 0.9688\n",
      "Epoch 22/50\n",
      "5324/5324 [==============================] - 13s 3ms/step - loss: 0.1313 - accuracy: 0.9598 - val_loss: 0.1151 - val_accuracy: 0.9633\n",
      "Epoch 23/50\n",
      "5324/5324 [==============================] - 14s 3ms/step - loss: 0.1319 - accuracy: 0.9600 - val_loss: 0.1039 - val_accuracy: 0.9696\n",
      "Epoch 24/50\n",
      "5324/5324 [==============================] - 15s 3ms/step - loss: 0.1300 - accuracy: 0.9602 - val_loss: 0.1219 - val_accuracy: 0.9615\n",
      "Epoch 25/50\n",
      "5324/5324 [==============================] - 16s 3ms/step - loss: 0.1318 - accuracy: 0.9597 - val_loss: 0.1159 - val_accuracy: 0.9666\n",
      "Epoch 26/50\n",
      "5324/5324 [==============================] - 16s 3ms/step - loss: 0.1311 - accuracy: 0.9603 - val_loss: 0.0984 - val_accuracy: 0.9719\n",
      "Epoch 27/50\n",
      "5324/5324 [==============================] - 15s 3ms/step - loss: 0.1310 - accuracy: 0.9603 - val_loss: 0.1061 - val_accuracy: 0.9678\n",
      "Epoch 28/50\n",
      "5324/5324 [==============================] - 16s 3ms/step - loss: 0.1311 - accuracy: 0.9600 - val_loss: 0.1109 - val_accuracy: 0.9655\n",
      "Epoch 29/50\n",
      "5324/5324 [==============================] - 15s 3ms/step - loss: 0.1308 - accuracy: 0.9595 - val_loss: 0.1863 - val_accuracy: 0.9277\n",
      "Epoch 30/50\n",
      "5324/5324 [==============================] - 14s 3ms/step - loss: 0.1332 - accuracy: 0.9589 - val_loss: 0.1049 - val_accuracy: 0.9706\n",
      "Epoch 31/50\n",
      "5324/5324 [==============================] - 15s 3ms/step - loss: 0.1314 - accuracy: 0.9606 - val_loss: 0.1078 - val_accuracy: 0.9673\n",
      "Epoch 32/50\n",
      "5324/5324 [==============================] - 14s 3ms/step - loss: 0.1293 - accuracy: 0.9613 - val_loss: 0.1161 - val_accuracy: 0.9659\n",
      "Epoch 33/50\n",
      "5324/5324 [==============================] - 14s 3ms/step - loss: 0.1284 - accuracy: 0.9614 - val_loss: 0.0942 - val_accuracy: 0.9721\n",
      "Epoch 34/50\n",
      "5324/5324 [==============================] - 14s 3ms/step - loss: 0.1297 - accuracy: 0.9616 - val_loss: 0.1204 - val_accuracy: 0.9640\n",
      "Epoch 35/50\n",
      "5324/5324 [==============================] - 15s 3ms/step - loss: 0.1293 - accuracy: 0.9613 - val_loss: 0.1014 - val_accuracy: 0.9694\n",
      "Epoch 36/50\n",
      "5324/5324 [==============================] - 14s 3ms/step - loss: 0.1292 - accuracy: 0.9618 - val_loss: 0.0951 - val_accuracy: 0.9723\n",
      "Epoch 37/50\n",
      "5324/5324 [==============================] - 14s 3ms/step - loss: 0.1279 - accuracy: 0.9616 - val_loss: 0.1075 - val_accuracy: 0.9672\n",
      "Epoch 38/50\n",
      "5324/5324 [==============================] - 14s 3ms/step - loss: 0.1287 - accuracy: 0.9615 - val_loss: 0.1046 - val_accuracy: 0.9688\n",
      "Epoch 39/50\n",
      "5324/5324 [==============================] - 14s 3ms/step - loss: 0.1281 - accuracy: 0.9623 - val_loss: 0.0933 - val_accuracy: 0.9728\n",
      "Epoch 40/50\n",
      "5324/5324 [==============================] - 16s 3ms/step - loss: 0.1292 - accuracy: 0.9617 - val_loss: 0.1150 - val_accuracy: 0.9662\n",
      "Epoch 41/50\n",
      "5324/5324 [==============================] - 14s 3ms/step - loss: 0.1282 - accuracy: 0.9621 - val_loss: 0.1048 - val_accuracy: 0.9700\n",
      "Epoch 42/50\n",
      "5324/5324 [==============================] - 16s 3ms/step - loss: 0.1283 - accuracy: 0.9619 - val_loss: 0.1033 - val_accuracy: 0.9698\n",
      "Epoch 43/50\n",
      "5324/5324 [==============================] - 15s 3ms/step - loss: 0.1271 - accuracy: 0.9620 - val_loss: 0.0975 - val_accuracy: 0.9716\n",
      "Epoch 44/50\n",
      "5324/5324 [==============================] - 14s 3ms/step - loss: 0.1278 - accuracy: 0.9618 - val_loss: 0.1314 - val_accuracy: 0.9607\n",
      "Epoch 45/50\n",
      "5324/5324 [==============================] - 14s 3ms/step - loss: 0.1283 - accuracy: 0.9622 - val_loss: 0.1228 - val_accuracy: 0.9629\n",
      "Epoch 46/50\n",
      "5324/5324 [==============================] - 16s 3ms/step - loss: 0.1280 - accuracy: 0.9628 - val_loss: 0.0992 - val_accuracy: 0.9709\n",
      "Epoch 47/50\n",
      "5324/5324 [==============================] - 15s 3ms/step - loss: 0.1258 - accuracy: 0.9627 - val_loss: 0.1341 - val_accuracy: 0.9611\n",
      "Epoch 48/50\n",
      "5324/5324 [==============================] - 15s 3ms/step - loss: 0.1256 - accuracy: 0.9631 - val_loss: 0.1037 - val_accuracy: 0.9700\n",
      "Epoch 49/50\n",
      "5324/5324 [==============================] - 16s 3ms/step - loss: 0.1269 - accuracy: 0.9636 - val_loss: 0.1093 - val_accuracy: 0.9680\n",
      "Epoch 50/50\n",
      "5324/5324 [==============================] - 29s 5ms/step - loss: 0.1272 - accuracy: 0.9626 - val_loss: 0.1016 - val_accuracy: 0.9725\n"
     ]
    },
    {
     "data": {
      "text/plain": [
       "<keras.callbacks.History at 0x22554182920>"
      ]
     },
     "execution_count": 90,
     "metadata": {},
     "output_type": "execute_result"
    }
   ],
   "source": [
    "# fit model\n",
    "history3_balanced = History() # will be used for getting loss\n",
    "model3_balanced.fit(X_train, y_train,validation_data=(X_test,y_test), epochs=50,\n",
    "          batch_size=20,verbose=1, callbacks=[history3_balanced])"
   ]
  },
  {
   "cell_type": "code",
   "execution_count": 91,
   "id": "4ae5b504",
   "metadata": {},
   "outputs": [
    {
     "name": "stdout",
     "output_type": "stream",
     "text": [
      "1426/1426 [==============================] - 3s 2ms/step\n"
     ]
    }
   ],
   "source": [
    "y_test_class = np.argmax(y_test, axis=1)\n",
    "pred_nn3_balanced = model3_balanced.predict(X_test)\n",
    "pred_nn3_classes_balanced = np.argmax(pred_nn3_balanced, axis=1)"
   ]
  },
  {
   "cell_type": "code",
   "execution_count": 92,
   "id": "b6e18f65",
   "metadata": {
    "scrolled": true
   },
   "outputs": [
    {
     "name": "stdout",
     "output_type": "stream",
     "text": [
      "              precision    recall  f1-score   support\n",
      "\n",
      "           0       0.96      0.96      0.96     15194\n",
      "           1       0.99      1.00      0.99     15273\n",
      "           2       0.97      0.96      0.97     15160\n",
      "\n",
      "    accuracy                           0.97     45627\n",
      "   macro avg       0.97      0.97      0.97     45627\n",
      "weighted avg       0.97      0.97      0.97     45627\n",
      "\n"
     ]
    }
   ],
   "source": [
    "print(classification_report(y_test_class, pred_nn3_classes_balanced))"
   ]
  },
  {
   "cell_type": "markdown",
   "id": "2726fd75",
   "metadata": {},
   "source": [
    "This neural network woks as good as the previous one for all classes."
   ]
  },
  {
   "cell_type": "code",
   "execution_count": 93,
   "id": "31a157ac",
   "metadata": {
    "scrolled": true
   },
   "outputs": [
    {
     "data": {
      "text/plain": [
       "array([[    0, 15152],\n",
       "       [    1, 15441],\n",
       "       [    2, 15034]], dtype=int64)"
      ]
     },
     "execution_count": 93,
     "metadata": {},
     "output_type": "execute_result"
    }
   ],
   "source": [
    "np.array(np.unique(pred_nn3_classes_balanced, return_counts=True)).T"
   ]
  },
  {
   "cell_type": "markdown",
   "id": "7e83c348",
   "metadata": {},
   "source": [
    "Loss curve"
   ]
  },
  {
   "cell_type": "code",
   "execution_count": 100,
   "id": "29e97286",
   "metadata": {},
   "outputs": [
    {
     "data": {
      "text/plain": [
       "<matplotlib.legend.Legend at 0x22558ebe620>"
      ]
     },
     "execution_count": 100,
     "metadata": {},
     "output_type": "execute_result"
    },
    {
     "data": {
      "image/png": "[encoded data removed]",
      "text/plain": [
       "<Figure size 640x480 with 1 Axes>"
      ]
     },
     "metadata": {},
     "output_type": "display_data"
    }
   ],
   "source": [
    "fig,ax = plt.subplots()\n",
    "ax.plot(history3_balanced.history['loss'])\n",
    "ax.plot(history3_balanced.history['val_loss'])\n",
    "ax.set_ylim(0, 1)\n",
    "ax.set_title('Model3 balanced loss ')\n",
    "ax.set_ylabel('Loss')\n",
    "ax.set_xlabel('Epoch')\n",
    "ax.legend(['Train', 'Test'], loc='upper left')"
   ]
  },
  {
   "cell_type": "markdown",
   "id": "920fe90f",
   "metadata": {},
   "source": [
    "Here, the same problem as in the first neural network can be seen. Loss of the test set i lower than loss of the trainig set, so network should be learned more. Here, I also used the dropout technnique, so it migth be a good idea to get rid of it."
   ]
  },
  {
   "cell_type": "markdown",
   "id": "2b02c817",
   "metadata": {},
   "source": [
    "# 9 Summary"
   ]
  },
  {
   "cell_type": "markdown",
   "id": "0a520525",
   "metadata": {},
   "source": [
    "The first conclusion, which can be drawn from this project, is the importance of adequate preprocessing. Results for almost every model were significantly higher in the second approach, in which balanced and standardized data was used. \n",
    "\n",
    "A second conclusion is which model to choose. I would say that the safest choice is decision tree without limiting max depth. Why? Because it is the only model, which has the same results in both approaches, which means this mode is more versatile. Of course in the second approach neural networks had the same result as the second decision tree, but in the first approach the differences were huge. Another reason for choosing decision tree as the best model is the amount of time it takes to build model. After upsampling gridsearch for knn was to long, to consider such model. When it comes to neural networks, they took a little bit time to build. In my opinion, neural networks would be better for more complicated classifications, for classifications like in this project decision tree model seems to be enough."
   ]
  }
 ],
 "metadata": {
  "kernelspec": {
   "display_name": "Python 3 (ipykernel)",
   "language": "python",
   "name": "python3"
  },
  "language_info": {
   "codemirror_mode": {
    "name": "ipython",
    "version": 3
   },
   "file_extension": ".py",
   "mimetype": "text/x-python",
   "name": "python",
   "nbconvert_exporter": "python",
   "pygments_lexer": "ipython3",
   "version": "3.10.9"
  }
 },
 "nbformat": 4,
 "nbformat_minor": 5
}
